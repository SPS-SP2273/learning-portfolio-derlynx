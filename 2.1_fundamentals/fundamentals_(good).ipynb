{
 "cells": [
  {
   "attachments": {},
   "cell_type": "markdown",
   "id": "123456",
   "metadata": {},
   "source": [
    "<div style=\"text-align:left;font-size:2em\"><span style=\"font-weight:bolder;font-size:1.25em\">SP2273 | Learning Portfolio</span><br><br><span style=\"font-weight:bold;color:darkred\">Fundamentals (Good)</span></div>"
   ]
  },
  {
   "attachments": {},
   "cell_type": "markdown",
   "id": "123456",
   "metadata": {},
   "source": [
    "# What to expect in this chapter"
   ]
  },
  {
   "cell_type": "markdown",
   "id": "302f8bb5",
   "metadata": {},
   "source": [
    "In the previous chapter, you learned some essential basics of Python. In this chapter, I will build on those earlier concepts to add more details to the same ideas. I will also introduce different data types and how to combine variables with English."
   ]
  },
  {
   "attachments": {},
   "cell_type": "markdown",
   "id": "123456",
   "metadata": {},
   "source": [
    "# 1 There is more to if"
   ]
  },
  {
   "cell_type": "markdown",
   "id": "5d552d8c",
   "metadata": {},
   "source": [
    "There are situations when we need more branches in an if statement. Python has the elif (else if) statement for such cases. Here is how it works\n",
    "\n"
   ]
  },
  {
   "cell_type": "code",
   "execution_count": 1,
   "id": "e2db0dff",
   "metadata": {},
   "outputs": [
    {
     "name": "stdout",
     "output_type": "stream",
     "text": [
      "Hello Batman!\n"
     ]
    }
   ],
   "source": [
    "name = 'Batman'\n",
    "\n",
    "if name == 'Batman':\n",
    "    print('Hello Batman!')\n",
    "elif name == 'Robin':\n",
    "    print('Hello Sidekick!')\n",
    "else:\n",
    "    print('Hello World!')"
   ]
  },
  {
   "attachments": {},
   "cell_type": "markdown",
   "id": "123456",
   "metadata": {},
   "source": [
    "# 2 Asking questions"
   ]
  },
  {
   "cell_type": "markdown",
   "id": "c3a103e1",
   "metadata": {},
   "source": [
    "To use if to make decisions we need to be able to ask questions; some of which might be complicated. Let’s now look at a few more examples of how we can do this.\n",
    "\n",
    "I will ask some questions about the following two lists.\n",
    "\n"
   ]
  },
  {
   "cell_type": "code",
   "execution_count": 2,
   "id": "e04f73d9",
   "metadata": {},
   "outputs": [
    {
     "data": {
      "text/plain": [
       "True"
      ]
     },
     "execution_count": 2,
     "metadata": {},
     "output_type": "execute_result"
    }
   ],
   "source": [
    "fruits = ['apple', 'banana', 'pineapple', 'jackfruit']\n",
    "vegetables = ['celery', 'potato', 'broccoli', 'kale']\n",
    "'apple' in fruits #Is ‘apple’ in the list fruits?\n",
    "'peach' in fruits #Is ‘peach’ in the list fruits?\n",
    "'peach' not in fruits #Is ‘peach’ not in the list fruits?\n",
    "('apple' in fruits) and ('celery' in vegetables) #Is ‘apple’ in the list fruits and is ‘celery’ in the list vegetables?\n",
    "('apple' in fruits) or ('celery' in vegetables) #Is ‘apple’ in the list fruits or is ‘celery’ in the list vegetables?\n",
    "'app' in 'apple' #Is ‘app’ in ‘apple’?"
   ]
  },
  {
   "cell_type": "markdown",
   "id": "d45d3335",
   "metadata": {},
   "source": [
    "In asking questions it is important to understand that basic Python only knows how to compare similar things (types) (e.g. numbers or English). So, 3 > 10.5 will work, but 3 > 'apple' will not.\n",
    "\n",
    "However, Python1 can compare 'apples' and 'oranges':"
   ]
  },
  {
   "cell_type": "code",
   "execution_count": 3,
   "id": "12a67305",
   "metadata": {},
   "outputs": [
    {
     "data": {
      "text/plain": [
       "False"
      ]
     },
     "execution_count": 3,
     "metadata": {},
     "output_type": "execute_result"
    }
   ],
   "source": [
    "'apples' > 'oranges'"
   ]
  },
  {
   "cell_type": "markdown",
   "id": "972db7c9",
   "metadata": {},
   "source": [
    "This comparison works because English letters are internally represented as numbers. For example, 'a' is 97 and 'o' is 111. This will become even clearer after you have worked on the section below on data types."
   ]
  },
  {
   "attachments": {},
   "cell_type": "markdown",
   "id": "123456",
   "metadata": {},
   "source": [
    "## 2.1 Asking Math questions"
   ]
  },
  {
   "cell_type": "markdown",
   "id": "e291cbc6",
   "metadata": {},
   "source": [
    "- You will find the following useful when asking mathematical questions:\n"
   ]
  },
  {
   "cell_type": "markdown",
   "id": "004c34ac",
   "metadata": {},
   "source": [
    "| Question/Condition     | Math Symbol | Python Symbols |\n",
    "|------------------------|:-----------:|:--------------:|\n",
    "| Equals?                |      =      |       ==       |\n",
    "| Not equal?             |      ≠      |       !=       |\n",
    "| Less than?             |      <      |        <       |\n",
    "| Greater than?          |      >      |        >       |\n",
    "| Less than or equal?    |      ≤      |       <=       |\n",
    "| Greater than or equal? |      ≥      |       >=       |"
   ]
  },
  {
   "cell_type": "markdown",
   "id": "f53c2581",
   "metadata": {},
   "source": [
    "- Python also (thankfully) accepts all the following syntax:\n",
    "\n"
   ]
  },
  {
   "cell_type": "code",
   "execution_count": 5,
   "id": "4acf6012",
   "metadata": {},
   "outputs": [
    {
     "ename": "NameError",
     "evalue": "name 'x' is not defined",
     "output_type": "error",
     "traceback": [
      "\u001b[31m---------------------------------------------------------------------------\u001b[39m",
      "\u001b[31mNameError\u001b[39m                                 Traceback (most recent call last)",
      "\u001b[36mCell\u001b[39m\u001b[36m \u001b[39m\u001b[32mIn[5]\u001b[39m\u001b[32m, line 1\u001b[39m\n\u001b[32m----> \u001b[39m\u001b[32m1\u001b[39m \u001b[43mx\u001b[49m > \u001b[32m5\u001b[39m \u001b[38;5;129;01mand\u001b[39;00m x < \u001b[32m15\u001b[39m\n\u001b[32m      2\u001b[39m (x > \u001b[32m5\u001b[39m) \u001b[38;5;129;01mand\u001b[39;00m (x < \u001b[32m15\u001b[39m)\n\u001b[32m      3\u001b[39m \u001b[32m5\u001b[39m < x < \u001b[32m15\u001b[39m\n",
      "\u001b[31mNameError\u001b[39m: name 'x' is not defined"
     ]
    }
   ],
   "source": [
    "x > 5 and x < 15\n",
    "(x > 5) and (x < 15)\n",
    "5 < x < 15"
   ]
  },
  {
   "cell_type": "markdown",
   "id": "514f9fc1",
   "metadata": {},
   "source": [
    "Clearly, the last format is the neatest and easiest to read. Notice also how the brackets increase the readability of the statement.\n",
    "\n"
   ]
  },
  {
   "attachments": {},
   "cell_type": "markdown",
   "id": "123456",
   "metadata": {},
   "source": [
    "# 3 Python stores information in different formats or types"
   ]
  },
  {
   "cell_type": "markdown",
   "id": "ae9a8695",
   "metadata": {},
   "source": [
    "For efficiency (i.e., speed and memory), computers store information in different ways. For example, here are four ways we can store the number 1.234. We are also using the function type() to ask Python how it is storing the information.\n",
    "\n"
   ]
  },
  {
   "cell_type": "code",
   "execution_count": 8,
   "id": "557dc9c2",
   "metadata": {},
   "outputs": [
    {
     "name": "stdout",
     "output_type": "stream",
     "text": [
      "1 <class 'int'>\n",
      "1.234 <class 'str'>\n",
      "1.234 <class 'float'>\n",
      "(1.234+0j) <class 'complex'>\n"
     ]
    }
   ],
   "source": [
    "# As an integer (int).\n",
    "# Notice how this ends up dropping the decimal portion!\n",
    "x = int(1.234)\n",
    "print(x, type(x))\n",
    "# As an English word (str).\n",
    "x = str(1.234)\n",
    "print(x, type(x))\n",
    "# As a decimal number (float).\n",
    "x = float(1.234)\n",
    "print(x, type(x))\n",
    "# As a complex number (complex).\n",
    "# This will include an imaginary part of the number.\n",
    "x = complex(1.234)\n",
    "print(x, type(x))"
   ]
  },
  {
   "cell_type": "markdown",
   "id": "cdb17112",
   "metadata": {},
   "source": [
    "There are many other types of data (see [here](https://realpython.com/python-data-types/) for more details). Often we will need to change the type of a variable.\n",
    "\n"
   ]
  },
  {
   "cell_type": "code",
   "execution_count": 6,
   "id": "cc9d964f",
   "metadata": {},
   "outputs": [
    {
     "name": "stdout",
     "output_type": "stream",
     "text": [
      "1.234 <class 'str'>\n",
      "1.234 <class 'float'>\n"
     ]
    }
   ],
   "source": [
    "x = '1.234'        # x is a string\n",
    "print(x, type(x))\n",
    "x = float(x)       # x is now a decimal number\n",
    "print(x, type(x))"
   ]
  },
  {
   "cell_type": "markdown",
   "id": "3ac885da",
   "metadata": {},
   "source": [
    "This is called typecasting; where we cast x to the type float.\n",
    "\n"
   ]
  },
  {
   "attachments": {},
   "cell_type": "markdown",
   "id": "123456",
   "metadata": {},
   "source": [
    "# 4 Never compare floats directly"
   ]
  },
  {
   "attachments": {},
   "cell_type": "markdown",
   "id": "123456",
   "metadata": {},
   "source": [
    "## 4.1 The Problem"
   ]
  },
  {
   "cell_type": "markdown",
   "id": "24ef26ba",
   "metadata": {},
   "source": [
    "when often need to compare numbers, especially for scientific work. Unfortunately, since computers have finite (hardware) resources, floating point numbers cannot be exactly stored in a computer. This leads to errors called roundoff errors. Let me demonstrate:\n",
    "\n",
    "Try the following code which compares $0.1\\times3$ with $0.3$."
   ]
  },
  {
   "cell_type": "code",
   "execution_count": 10,
   "id": "f8601e6e",
   "metadata": {},
   "outputs": [
    {
     "data": {
      "text/plain": [
       "False"
      ]
     },
     "execution_count": 10,
     "metadata": {},
     "output_type": "execute_result"
    }
   ],
   "source": [
    "a = 0.1\n",
    "a3 = 0.3\n",
    "a * 3 == a3"
   ]
  },
  {
   "cell_type": "markdown",
   "id": "e6361c38",
   "metadata": {},
   "source": [
    "To convince you further, let’s try printing $0.3$ to 17 decimal places:"
   ]
  },
  {
   "cell_type": "code",
   "execution_count": 15,
   "id": "c51dfada",
   "metadata": {},
   "outputs": [
    {
     "data": {
      "text/plain": [
       "'0.29999999999999999'"
      ]
     },
     "execution_count": 15,
     "metadata": {},
     "output_type": "execute_result"
    }
   ],
   "source": [
    "f'{0.3:.17f}'"
   ]
  },
  {
   "attachments": {},
   "cell_type": "markdown",
   "id": "123456",
   "metadata": {},
   "source": [
    "## 4.2 A solution"
   ]
  },
  {
   "cell_type": "markdown",
   "id": "297341c6",
   "metadata": {},
   "source": [
    "To get around these types of issues, you should check if the variable is **close** to the expected values instead of checking for equality."
   ]
  },
  {
   "cell_type": "code",
   "execution_count": 11,
   "id": "edc489ed",
   "metadata": {},
   "outputs": [
    {
     "data": {
      "text/plain": [
       "True"
      ]
     },
     "execution_count": 11,
     "metadata": {},
     "output_type": "execute_result"
    }
   ],
   "source": [
    "eps = 1E-10\n",
    "abs(a * 3 - a3) < eps"
   ]
  },
  {
   "cell_type": "markdown",
   "id": "7b2ecb99",
   "metadata": {},
   "source": [
    "Or just use Numpy\n",
    "\n"
   ]
  },
  {
   "cell_type": "code",
   "execution_count": 16,
   "id": "7f7fb4af",
   "metadata": {},
   "outputs": [
    {
     "data": {
      "text/plain": [
       "np.True_"
      ]
     },
     "execution_count": 16,
     "metadata": {},
     "output_type": "execute_result"
    }
   ],
   "source": [
    "import numpy as np\n",
    "np.isclose(a * 3, a3)"
   ]
  },
  {
   "attachments": {},
   "cell_type": "markdown",
   "id": "123456",
   "metadata": {},
   "source": [
    "# 5 Combining English and variables"
   ]
  },
  {
   "cell_type": "markdown",
   "id": "3b695d81",
   "metadata": {},
   "source": [
    "Although often underappreciated, one of the most valuable coding skills is the ability to seamlessly combine strings (i.e., English) with variables. This will be useful, for example when automating personalized emails to a large class.\n",
    "\n",
    "Combining text and variables is so easy in newer versions of Python. Let me show you a few examples:\n",
    "\n"
   ]
  },
  {
   "cell_type": "code",
   "execution_count": 17,
   "id": "0ec85c43",
   "metadata": {},
   "outputs": [
    {
     "name": "stdout",
     "output_type": "stream",
     "text": [
      "Hello Batman!\n",
      "Hello BATMAN!\n",
      "The value of 10 squared is 100!\n"
     ]
    }
   ],
   "source": [
    "name = \"Batman\"\n",
    "print(f\"Hello {name}!\")\n",
    "name = \"Batman\"\n",
    "print(f\"Hello {name.upper()}!\")\n",
    "x = 10\n",
    "print(f\"The value of {x} squared is {x**2}!\")"
   ]
  },
  {
   "cell_type": "markdown",
   "id": "72945494",
   "metadata": {},
   "source": [
    "Note the f and the { } in the above command. This is called **f-string** or **string interpolation**.\n",
    "\n",
    "You can do more with f-strings, like formatting a string or number. Let me show you three more examples.\n",
    "\n",
    "Using f-strings to format text (strings)."
   ]
  },
  {
   "cell_type": "code",
   "execution_count": 4,
   "id": "a5d3f127",
   "metadata": {},
   "outputs": [
    {
     "name": "stdout",
     "output_type": "stream",
     "text": [
      "Bruce Wayne is Batman.\n",
      "        Bruce Wayne is Batman.\n",
      "    Bruce Wayne is Batman.    \n",
      "Bruce Wayne is Batman.        \n"
     ]
    }
   ],
   "source": [
    "text = 'Bruce Wayne is Batman.'\n",
    "print(f'{text}')\n",
    "print(f'{text:>30}')      # A block of 30 characters aligned right;\n",
    "print(f'{text:^30}')      # A block of 30 characters aligned centre;\n",
    "print(f'{text:<30}')      # A block of 30 characters aligned left;"
   ]
  },
  {
   "cell_type": "markdown",
   "id": "c8b0e36e",
   "metadata": {},
   "source": [
    "Using f-string to format numbers.\n",
    "\n"
   ]
  },
  {
   "cell_type": "code",
   "execution_count": 21,
   "id": "55d1cca9",
   "metadata": {},
   "outputs": [
    {
     "name": "stdout",
     "output_type": "stream",
     "text": [
      "The cube of pi to 6 decimal places is 31.006277\n"
     ]
    }
   ],
   "source": [
    "print(f'The cube of pi to 6 decimal places is {np.pi**3:.6f}')"
   ]
  },
  {
   "cell_type": "markdown",
   "id": "fae43b82",
   "metadata": {},
   "source": [
    "The f in .6f is used to tell the f-string to output the number in decimal notation.\n",
    "\n"
   ]
  },
  {
   "cell_type": "code",
   "execution_count": 22,
   "id": "0d1d661a",
   "metadata": {},
   "outputs": [
    {
     "name": "stdout",
     "output_type": "stream",
     "text": [
      "The cube of pi to 6 decimal places is 3.100628e+01\n"
     ]
    }
   ],
   "source": [
    "print(f'The cube of pi to 6 decimal places is {np.pi**3:.6e}')"
   ]
  },
  {
   "cell_type": "markdown",
   "id": "7d91aaf4",
   "metadata": {},
   "source": [
    "The e in .6e is used to tell the f-string to output the number in scientific notation.\n",
    "\n"
   ]
  },
  {
   "attachments": {},
   "cell_type": "markdown",
   "id": "123456",
   "metadata": {},
   "source": [
    "## 5.1 Structure of f-strings"
   ]
  },
  {
   "cell_type": "markdown",
   "id": "5c6245bc",
   "metadata": {},
   "source": [
    "f-string formatting has the structure {X:>0Y.ZW}. Here is more information about the letters X,Y,>, 0,Z and W.\n",
    "\n"
   ]
  },
  {
   "cell_type": "markdown",
   "id": "c4903141",
   "metadata": {},
   "source": [
    "| Letter | Action                          | Possible Options                                               |\n",
    "|--------|---------------------------------|----------------------------------------------------------------|\n",
    "| X      | Variable to format              | Can be a number or a string                                    |\n",
    "| >      | Alignment                       |<ul><li>< (Left justified)</li><li>> (Right justified)</li><li>^ (Centre justified)</li></ul>    |\n",
    "| 0      | Use 0’s to pad the spaces       | You can use other characters like a space .                    |\n",
    "| Y      | Total number of characters      |                                                                |\n",
    "| Z      | Number of decimal places        |                                                                |\n",
    "| W      | Specifies the type of variable. |<ul><li>f (float)</li><li>d (integer)</li><li>s (string)</li><li>g (Asks Python to figure out)</li></ul>|"
   ]
  },
  {
   "cell_type": "markdown",
   "id": "266ff3c6",
   "metadata": {},
   "source": [
    "You can refer to [this website](https://pyformat.info/) for more information about f-strings."
   ]
  },
  {
   "attachments": {},
   "cell_type": "markdown",
   "id": "123456",
   "metadata": {},
   "source": [
    "# 6 Escape sequences"
   ]
  },
  {
   "cell_type": "markdown",
   "id": "7762b822",
   "metadata": {},
   "source": [
    "This is a good point to highlight escape sequences. Despite the funky name, it refers to special characters we sometimes need when writing English. For example, to break a line and add a tab:\n",
    "\n"
   ]
  },
  {
   "cell_type": "code",
   "execution_count": 24,
   "id": "0a2df8a1",
   "metadata": {},
   "outputs": [
    {
     "name": "stdout",
     "output_type": "stream",
     "text": [
      "Line 1\n",
      "\tLine 2\n",
      "\t\tLine 3\n"
     ]
    }
   ],
   "source": [
    "print('Line 1\\n\\tLine 2\\n\\t\\tLine 3')"
   ]
  },
  {
   "cell_type": "markdown",
   "id": "a3c7251e",
   "metadata": {},
   "source": [
    "The \\n is the command to breakline and \\t represents a tab. These characters are typically not visible, but they are there. Let me put all the useful escape sequences in a table for you:\n",
    "\n"
   ]
  },
  {
   "cell_type": "markdown",
   "id": "158e3199",
   "metadata": {},
   "source": [
    "| Escape Sequence |     Meaning    |\n",
    "|:---------------:|:--------------:|\n",
    "|        \\’       |  Single quote  |\n",
    "|        \\\\       |    Backslash   |\n",
    "|        \\n       |     Newline    |\n",
    "|        \\t       | Horizontal Tab |"
   ]
  },
  {
   "cell_type": "markdown",
   "id": "84b6eeb1",
   "metadata": {},
   "source": [
    "Let me show you a few more examples:\n",
    "\n",
    "1. In a previous example, I had to use both \" and ' to print “You’re twenty years old.”. However, with the escaped version of ' things are simpler."
   ]
  },
  {
   "cell_type": "code",
   "execution_count": 25,
   "id": "8dc6f34b",
   "metadata": {},
   "outputs": [
    {
     "name": "stdout",
     "output_type": "stream",
     "text": [
      "You're twenty years old.\n"
     ]
    }
   ],
   "source": [
    "print('You\\'re twenty years old.') "
   ]
  },
  {
   "cell_type": "markdown",
   "id": "5f458db8",
   "metadata": {},
   "source": [
    "2. If you want to print \\, you need to ‘escape’ it. If you don’t… well, give it a try and see.\n",
    "\n"
   ]
  },
  {
   "cell_type": "code",
   "execution_count": 26,
   "id": "ab05af01",
   "metadata": {},
   "outputs": [
    {
     "name": "stdout",
     "output_type": "stream",
     "text": [
      "A\\B\\C\n"
     ]
    }
   ],
   "source": [
    "print('A\\\\B\\\\C')"
   ]
  },
  {
   "cell_type": "code",
   "execution_count": 27,
   "id": "32689afd",
   "metadata": {},
   "outputs": [
    {
     "name": "stdout",
     "output_type": "stream",
     "text": [
      "A\n",
      "B\n",
      "C\n"
     ]
    }
   ],
   "source": [
    "print('A\\nB\\nC')"
   ]
  },
  {
   "cell_type": "markdown",
   "id": "4e5ccdba",
   "metadata": {},
   "source": [
    "Notice the linebreaks!\n",
    "\n"
   ]
  },
  {
   "cell_type": "code",
   "execution_count": 28,
   "id": "b887e546",
   "metadata": {},
   "outputs": [
    {
     "name": "stdout",
     "output_type": "stream",
     "text": [
      "A\tB\tC\n"
     ]
    }
   ],
   "source": [
    "print('A\\tB\\tC')"
   ]
  },
  {
   "cell_type": "markdown",
   "id": "91924271",
   "metadata": {},
   "source": [
    "Notice the tabs!\n",
    "\n"
   ]
  },
  {
   "attachments": {},
   "cell_type": "markdown",
   "id": "123456",
   "metadata": {},
   "source": [
    "## 6.1 Self-documenting f-strings"
   ]
  },
  {
   "cell_type": "markdown",
   "id": "ca2559aa",
   "metadata": {},
   "source": [
    "f-strings offer a neat self-documenting option that prints the variable and the value all on its own. This is obviously very useful, especially during debugging. Here is how you use it:\n",
    "\n"
   ]
  },
  {
   "cell_type": "code",
   "execution_count": 29,
   "id": "8f93a266",
   "metadata": {},
   "outputs": [
    {
     "name": "stdout",
     "output_type": "stream",
     "text": [
      "x=42 and y=24\n"
     ]
    }
   ],
   "source": [
    "x, y= 42, 24\n",
    "print(f'{x=} and {y=}')"
   ]
  },
  {
   "cell_type": "markdown",
   "id": "f6a0dcb2",
   "metadata": {},
   "source": [
    "Formatting works too!\n",
    "\n"
   ]
  },
  {
   "cell_type": "code",
   "execution_count": 30,
   "id": "640c59d2",
   "metadata": {},
   "outputs": [
    {
     "name": "stdout",
     "output_type": "stream",
     "text": [
      "x=8.400 and y=4.800000\n"
     ]
    }
   ],
   "source": [
    "x, y= 42/5, 24/5\n",
    "print(f'{x=:.3f} and {y=:.6f}')"
   ]
  },
  {
   "attachments": {},
   "cell_type": "markdown",
   "id": "123456",
   "metadata": {},
   "source": [
    "# 7 Computers read = from Right to Left!"
   ]
  },
  {
   "cell_type": "markdown",
   "id": "a832dac1",
   "metadata": {},
   "source": [
    "The way computers use = is quirky. Let me explain why.\n",
    "\n",
    "Consider the code below:"
   ]
  },
  {
   "cell_type": "code",
   "execution_count": 31,
   "id": "838f76ba",
   "metadata": {},
   "outputs": [],
   "source": [
    "x = 40\n",
    "y = x + 2"
   ]
  },
  {
   "cell_type": "markdown",
   "id": "b6396cca",
   "metadata": {},
   "source": [
    "How Python executes these instructions is as follows:\n",
    "\n",
    "This means that the following will work in programming (but not math!)."
   ]
  },
  {
   "cell_type": "code",
   "execution_count": 32,
   "id": "eb506508",
   "metadata": {},
   "outputs": [
    {
     "name": "stdout",
     "output_type": "stream",
     "text": [
      "42\n"
     ]
    }
   ],
   "source": [
    "y = 40\n",
    "y = y + 2\n",
    "print(y)"
   ]
  },
  {
   "cell_type": "markdown",
   "id": "73b5c6ba",
   "metadata": {},
   "source": [
    "You will frequently see variables modified using this syntax. So, best get used to it.\n",
    "\n",
    "**Note**: Python also allows the following syntax."
   ]
  },
  {
   "cell_type": "code",
   "execution_count": 33,
   "id": "2ad53066",
   "metadata": {},
   "outputs": [],
   "source": [
    "x = y = 10"
   ]
  },
  {
   "attachments": {},
   "cell_type": "markdown",
   "id": "123456",
   "metadata": {},
   "source": [
    "# 8 Shorter and Cleaner Code"
   ]
  },
  {
   "cell_type": "markdown",
   "id": "906fbe03",
   "metadata": {},
   "source": [
    "Let me now introduce some shorthand syntax4 related to the previous point that will make your code neater. This shorthand is used often so even if you do not want to use it, you still need to understand it.\n",
    "\n",
    "Consider the following two sets of code; both have the same result."
   ]
  },
  {
   "cell_type": "code",
   "execution_count": null,
   "id": "09c07655",
   "metadata": {},
   "outputs": [
    {
     "name": "stdout",
     "output_type": "stream",
     "text": [
      "42\n"
     ]
    }
   ],
   "source": [
    "y = 40\n",
    "y = y + 2\n",
    "y\n",
    "y = 40\n",
    "y += 2    # Same as y = y + 2\n",
    "y"
   ]
  },
  {
   "cell_type": "markdown",
   "id": "2aebdf19",
   "metadata": {},
   "source": [
    "So, we can replace y = y + 2 with y += 2. Similar shorthand notation exists for subtraction, division and multiplication:\n",
    "\n"
   ]
  },
  {
   "cell_type": "markdown",
   "id": "f7d6be9f",
   "metadata": {},
   "source": [
    "|                | Long form | Shorthand |\n",
    "|:--------------|:---------:|:---------:|\n",
    "| Addition       |  y = y+2  |   y += 2  |\n",
    "| Subtraction    |  y = y-2  |   y -= 2  |\n",
    "| Multiplication |  y = y*2  |   y *= 2  |\n",
    "| Division       |  y = y/2  |   y /= 2  |"
   ]
  },
  {
   "attachments": {},
   "cell_type": "markdown",
   "id": "123456",
   "metadata": {},
   "source": [
    "# 9 Python can be a prima-donna."
   ]
  },
  {
   "cell_type": "markdown",
   "id": "38df5c85",
   "metadata": {},
   "source": [
    "When we do something Python doesn’t like or understand, it will often act like a prima-donna and throw a complaint with a looong error message. As with most complaints, scroll to the end to see the real problem.\n",
    "\n",
    "If you had used Print() in the previous chapter, you would have already seen an error message. Fixing coding errors is called debugging. Most programmers spend a long time debugging. Further, the more debugging you do, the more comfortable you will be with thinking and programming. So, use every opportunity you have to practice debugging."
   ]
  },
  {
   "attachments": {},
   "cell_type": "markdown",
   "id": "123456",
   "metadata": {},
   "source": [
    "# 10 Best Practices for Scientific Computing"
   ]
  },
  {
   "cell_type": "markdown",
   "id": "1253c8e7",
   "metadata": {},
   "source": [
    "Now is an apt time to highlight some best practices you should **always** bear in mind. The following is an excerpt from @wilson2014. I have only given those points that apply to you **now**. I will bring up more as we progress on our journey.\n",
    "\n",
    "1. **Write programs for people, not computers.**\n",
    "1. **Optimise software only after it works correctly.**\n",
    "1. **Document design and purpose, not mechanics.**\n",
    "1. **Collaborate.**\n",
    "\n",
    "If you don’t take care, your code can quickly become unfathomable to others and your future self. So, consciously produce easily understandable code (for example, using appropriate variable names). In addition, discussing your code with your friends (collaboration) is helpful because you will get immediate feedback if your code is indecipherable or if you have misunderstood a concept.\n",
    "\n",
    "Another common pitfall novices succumb to is pursuing a perfect solution right from the get-go. Instead, it is better to get something (**anything**) working. You can then make things complicated and/or optimize your code."
   ]
  },
  {
   "attachments": {},
   "cell_type": "markdown",
   "id": "123456",
   "metadata": {},
   "source": [
    "# 11 Looking for help"
   ]
  },
  {
   "cell_type": "markdown",
   "id": "85dbf48d",
   "metadata": {},
   "source": [
    "You can get help/information about Python functions from within Python. However, I do not recommend it at this stage. Let me show you why:"
   ]
  },
  {
   "cell_type": "code",
   "execution_count": 1,
   "id": "806029d3",
   "metadata": {},
   "outputs": [
    {
     "name": "stdout",
     "output_type": "stream",
     "text": [
      "Help on built-in function print in module builtins:\n",
      "\n",
      "print(*args, sep=' ', end='\\n', file=None, flush=False)\n",
      "    Prints the values to a stream, or to sys.stdout by default.\n",
      "\n",
      "    sep\n",
      "      string inserted between values, default a space.\n",
      "    end\n",
      "      string appended after the last value, default a newline.\n",
      "    file\n",
      "      a file-like object (stream); defaults to the current sys.stdout.\n",
      "    flush\n",
      "      whether to forcibly flush the stream.\n",
      "\n"
     ]
    }
   ],
   "source": [
    "help(print)"
   ]
  },
  {
   "cell_type": "markdown",
   "id": "1285f2e8",
   "metadata": {},
   "source": [
    "The above is the documentation corresponding to the function print(). Unfortunately, unless you already have some experience, this documentation is not the friendliest. The internet (e.g. [stack overflow](https://stackoverflow.com/questions/tagged/python), Google or ChatGPT) is the fastest way to get a question about programming answered.\n",
    "\n"
   ]
  },
  {
   "attachments": {},
   "cell_type": "markdown",
   "id": "123456",
   "metadata": {},
   "source": [
    "## References"
   ]
  },
  {
   "attachments": {},
   "cell_type": "markdown",
   "id": "123456",
   "metadata": {},
   "source": [
    "## Footnotes"
   ]
  }
 ],
 "metadata": {
  "kernelspec": {
   "display_name": "base",
   "language": "python",
   "name": "python3"
  },
  "language_info": {
   "codemirror_mode": {
    "name": "ipython",
    "version": 3
   },
   "file_extension": ".py",
   "mimetype": "text/x-python",
   "name": "python",
   "nbconvert_exporter": "python",
   "pygments_lexer": "ipython3",
   "version": "3.13.5"
  },
  "toc": {
   "base_numbering": 1,
   "nav_menu": {},
   "number_sections": true,
   "sideBar": true,
   "skip_h1_title": false,
   "title_cell": "Table of Contents",
   "title_sidebar": "Contents",
   "toc_cell": false,
   "toc_position": {},
   "toc_section_display": true,
   "toc_window_display": false
  }
 },
 "nbformat": 4,
 "nbformat_minor": 5
}

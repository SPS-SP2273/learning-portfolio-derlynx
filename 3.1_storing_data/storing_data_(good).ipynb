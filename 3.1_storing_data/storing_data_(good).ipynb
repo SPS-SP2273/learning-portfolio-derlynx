{
 "cells": [
  {
   "attachments": {},
   "cell_type": "markdown",
   "id": "123456",
   "metadata": {},
   "source": [
    "<div style=\"text-align:left;font-size:2em\"><span style=\"font-weight:bolder;font-size:1.25em\">SP2273 | Learning Portfolio</span><br><br><span style=\"font-weight:bold;color:darkred\">Storing Data (Good)</span></div>"
   ]
  },
  {
   "attachments": {},
   "cell_type": "markdown",
   "id": "123456",
   "metadata": {},
   "source": [
    "# What to expect in this chapter"
   ]
  },
  {
   "cell_type": "markdown",
   "id": "fdd653c0",
   "metadata": {},
   "source": [
    "You should now know how to store data using lists, arrays and dictionaries. I will now show you more details on accessing and modifying these structures. This is important because most of what you do with programming is related to accessing and changing data. You will also gain a better understanding of the differences and similarities between lists, NumPy arrays and dictionaries."
   ]
  },
  {
   "attachments": {},
   "cell_type": "markdown",
   "id": "123456",
   "metadata": {},
   "source": [
    "# 1 Subsetting: Indexing and Slicing"
   ]
  },
  {
   "cell_type": "markdown",
   "id": "61b78926",
   "metadata": {},
   "source": [
    "You will often need to select a subset (subsetting) of the data in a list (or array). One form of this is picking a single element called indexing (You already know how to do this from the previous chapter). Another option is to select a range of elements. This is called slicing.\n",
    "\n",
    "So, in summary, what we mean when we say…\n",
    "\n",
    "- **Subsetting** means to ‘select’.\n",
    "- **Indexing** refers to selecting one element.\n",
    "- **Slicing** refers to selecting a range of elements."
   ]
  },
  {
   "attachments": {},
   "cell_type": "markdown",
   "id": "123456",
   "metadata": {},
   "source": [
    "## 1.1 Lists & Arrays in 1D | Subsetting & Indexing"
   ]
  },
  {
   "cell_type": "markdown",
   "id": "1f1e707f",
   "metadata": {},
   "source": [
    "Since slicing gives us a range of elements, we must specify two indices to indicate where to start and end. The various syntaxes for these are shown in the table below.\n",
    "\n",
    "The following applies to **both** lists and arrays."
   ]
  },
  {
   "cell_type": "code",
   "execution_count": 6,
   "id": "e26df60f",
   "metadata": {},
   "outputs": [],
   "source": [
    "import numpy as np\n",
    "py_list=[\"a1\", \"b2\", \"c3\", \"d4\", \"e5\",\n",
    "         \"f6\", \"g7\", \"h8\", \"i9\", \"j10\"]\n",
    "np_array = np.array(py_list)\n",
    "\n",
    "# Pick one\n",
    "x = py_list  # OR\n",
    "x = np_array"
   ]
  },
  {
   "cell_type": "markdown",
   "id": "022318fb",
   "metadata": {},
   "source": [
    "| Syntax    | Result                          |                                 | Note                                |\n",
    "|-----------|---------------------------------|---------------------------------|-------------------------------------|\n",
    "| x[0]      | First element                   | 'a1'                            |                                     |\n",
    "| x[-1]     | Last element                    | 'j10'                           |                                     |\n",
    "| x[0:3]    | Index 0 to 2                    | ['a1','b2','c3']                | Gives $3-0=3$ elements                |\n",
    "| x[1:6]    | Index 1 to 5                    | ['b2','c3','d4','e5','f6']      | Gives $6-1=5$ elements                |\n",
    "| x[1:6:2]  | Index 1 to 5 in steps of 2      | ['b2','d4','f6']                | Gives every other of $6-1=5$ elements |\n",
    "| x[5:]     | Index 5 to the end              | ['f6','g7','h8','i9','j10']     | Gives len(x)$-5=5$ elements           |\n",
    "| x[:5]     | Index 0 to 5                    | ['a1','b2','c3','d4','e5']      | Gives $5-0=5$ elements                |\n",
    "| x[5:2:-1] | Index 5 to 3 (i.e., in reverse) | ['f6','e5','d4']                | Gives $5-2=3$ elements                |\n",
    "| x[::-1]   | Reverses the list               | ['j10','i9','h8',...,'b2','a1'] |                                     |"
   ]
  },
  {
   "attachments": {},
   "cell_type": "markdown",
   "id": "123456",
   "metadata": {},
   "source": [
    "## 1.2 Arrays only | Subsetting by masking"
   ]
  },
  {
   "cell_type": "markdown",
   "id": "a19d6354",
   "metadata": {},
   "source": [
    "One of the most powerful things you can do with NumPy arrays is subsetting by masking. To make sense of this, consider the following."
   ]
  },
  {
   "cell_type": "code",
   "execution_count": 7,
   "id": "a8caaf70",
   "metadata": {},
   "outputs": [
    {
     "data": {
      "text/plain": [
       "array([False, False, False,  True,  True,  True,  True,  True,  True,\n",
       "        True])"
      ]
     },
     "execution_count": 7,
     "metadata": {},
     "output_type": "execute_result"
    }
   ],
   "source": [
    "np_array = np.array([1, 2, 3, 4, 5, 6, 7, 8, 9, 10])\n",
    "my_mask = np_array > 3\n",
    "my_mask"
   ]
  },
  {
   "cell_type": "markdown",
   "id": "08fb89c1",
   "metadata": {},
   "source": [
    "The answer to my question is in the form of a ‘Yes’/‘No’ or True/False format. I can use this True/False format to ask NumPy to show me **only those that are** True by"
   ]
  },
  {
   "cell_type": "code",
   "execution_count": 8,
   "id": "fc84a8a7",
   "metadata": {},
   "outputs": [
    {
     "data": {
      "text/plain": [
       "array([ 4,  5,  6,  7,  8,  9, 10])"
      ]
     },
     "execution_count": 8,
     "metadata": {},
     "output_type": "execute_result"
    }
   ],
   "source": [
    "np_array[my_mask]"
   ]
  },
  {
   "cell_type": "markdown",
   "id": "4010ac0f",
   "metadata": {},
   "source": [
    "This is why I used the term ‘masking’. The True/False answer acts like a mask allowing only the True subset to be seen.\n",
    "\n",
    "Instead of creating another variable, I can also do all of this succinctly as:"
   ]
  },
  {
   "cell_type": "code",
   "execution_count": 9,
   "id": "090fae22",
   "metadata": {},
   "outputs": [
    {
     "data": {
      "text/plain": [
       "array([ 4,  5,  6,  7,  8,  9, 10])"
      ]
     },
     "execution_count": 9,
     "metadata": {},
     "output_type": "execute_result"
    }
   ],
   "source": [
    "np_array[np_array > 3]"
   ]
  },
  {
   "cell_type": "markdown",
   "id": "03cb0f40",
   "metadata": {},
   "source": [
    "Let me show you a few more quick examples\n",
    "\n",
    "We can **invert** our mask by using the ~.\n",
    "\n",
    "~ is called the Bitwise Not operator."
   ]
  },
  {
   "cell_type": "code",
   "execution_count": 10,
   "id": "1916e50f",
   "metadata": {},
   "outputs": [
    {
     "data": {
      "text/plain": [
       "array([1, 2, 3])"
      ]
     },
     "execution_count": 10,
     "metadata": {},
     "output_type": "execute_result"
    }
   ],
   "source": [
    "np_array[~(np_array > 3)]                 # '~' means 'NOT'"
   ]
  },
  {
   "cell_type": "markdown",
   "id": "c9194cc8",
   "metadata": {},
   "source": [
    "We can combine one mask **AND** another mask.\n",
    "\n",
    "(AND will show something only if both masks are true.)"
   ]
  },
  {
   "cell_type": "code",
   "execution_count": 11,
   "id": "f7b0cb45",
   "metadata": {},
   "outputs": [
    {
     "data": {
      "text/plain": [
       "array([4, 5, 6, 7])"
      ]
     },
     "execution_count": 11,
     "metadata": {},
     "output_type": "execute_result"
    }
   ],
   "source": [
    "np_array[(np_array > 3) & (np_array < 8)] # '&' means 'AND'"
   ]
  },
  {
   "cell_type": "markdown",
   "id": "9e632a66",
   "metadata": {},
   "source": [
    "We can combine one mask **OR** another mask.\n",
    "\n",
    "(OR will show something if either mask is true.)"
   ]
  },
  {
   "cell_type": "code",
   "execution_count": 12,
   "id": "61277018",
   "metadata": {},
   "outputs": [
    {
     "data": {
      "text/plain": [
       "array([ 1,  2,  9, 10])"
      ]
     },
     "execution_count": 12,
     "metadata": {},
     "output_type": "execute_result"
    }
   ],
   "source": [
    "np_array[(np_array < 3) | (np_array > 8)] # '|' means 'OR'"
   ]
  },
  {
   "attachments": {},
   "cell_type": "markdown",
   "id": "123456",
   "metadata": {},
   "source": [
    "## 1.3 Lists & Arrays in 2D | Indexing & Slicing"
   ]
  },
  {
   "cell_type": "markdown",
   "id": "66b84683",
   "metadata": {},
   "source": [
    "The differences between lists and arrays become even more apparent with higher dimensional lists and arrays. Especially when you try indexing and slicing in higher dimensions.\n",
    "\n",
    "Let’s consider the following 2D list."
   ]
  },
  {
   "cell_type": "code",
   "execution_count": 13,
   "id": "5d5e568b",
   "metadata": {},
   "outputs": [],
   "source": [
    "py_list_2d = [[1, \"A\"], [2, \"B\"], [3, \"C\"], [4, \"D\"],\n",
    "              [5, \"E\"], [6, \"F\"], [7, \"G\"], [8, \"H\"],\n",
    "              [9, \"I\"], [10, \"J\"]]\n",
    "\n",
    "np_array_2d = np.array(py_list_2d)"
   ]
  },
  {
   "cell_type": "markdown",
   "id": "d253f7b6",
   "metadata": {},
   "source": [
    "What is at position 4 (index 3)?"
   ]
  },
  {
   "cell_type": "code",
   "execution_count": 14,
   "id": "17455ea1",
   "metadata": {},
   "outputs": [
    {
     "data": {
      "text/plain": [
       "array(['4', 'D'], dtype='<U21')"
      ]
     },
     "execution_count": 14,
     "metadata": {},
     "output_type": "execute_result"
    }
   ],
   "source": [
    "py_list_2d[3]\n",
    "np_array_2d[3]"
   ]
  },
  {
   "cell_type": "markdown",
   "id": "376898ce",
   "metadata": {},
   "source": [
    "What is the FIRST element at position 4 (index 3)"
   ]
  },
  {
   "cell_type": "code",
   "execution_count": 15,
   "id": "9d9a4835",
   "metadata": {},
   "outputs": [
    {
     "data": {
      "text/plain": [
       "np.str_('4')"
      ]
     },
     "execution_count": 15,
     "metadata": {},
     "output_type": "execute_result"
    }
   ],
   "source": [
    "py_list_2d[3][0]\n",
    "np_array_2d[3, 0]"
   ]
  },
  {
   "cell_type": "markdown",
   "id": "e6ca76bb",
   "metadata": {},
   "source": [
    "Notice how the syntax for arrays uses just a single pair of square brackets ([ ]).\n",
    "\n",
    "What are the first three elements?"
   ]
  },
  {
   "cell_type": "code",
   "execution_count": 16,
   "id": "0a09662d",
   "metadata": {},
   "outputs": [
    {
     "data": {
      "text/plain": [
       "array([['1', 'A'],\n",
       "       ['2', 'B'],\n",
       "       ['3', 'C']], dtype='<U21')"
      ]
     },
     "execution_count": 16,
     "metadata": {},
     "output_type": "execute_result"
    }
   ],
   "source": [
    "py_list_2d[:3]\n",
    "np_array_2d[:3]"
   ]
  },
  {
   "cell_type": "markdown",
   "id": "31836d3f",
   "metadata": {},
   "source": [
    "Hmmm…"
   ]
  },
  {
   "cell_type": "code",
   "execution_count": 17,
   "id": "fb2ba8e0",
   "metadata": {},
   "outputs": [
    {
     "data": {
      "text/plain": [
       "array(['1', '2', '3'], dtype='<U21')"
      ]
     },
     "execution_count": 17,
     "metadata": {},
     "output_type": "execute_result"
    }
   ],
   "source": [
    "py_list_2d[:3][0]\n",
    "np_array_2d[:3, 0]"
   ]
  },
  {
   "cell_type": "markdown",
   "id": "5d5a41c1",
   "metadata": {},
   "source": [
    "You might think that this will yield the first elements (i.e., [1, 2, 3]) of all the sub-lists up to index 2.\n",
    "\n",
    "No! Instead, it gives the first of the list you get from py_list_2d[:3].\n",
    "\n",
    "Notice how differently NumPy arrays work."
   ]
  },
  {
   "cell_type": "code",
   "execution_count": 18,
   "id": "73d2c81e",
   "metadata": {},
   "outputs": [
    {
     "data": {
      "text/plain": [
       "array(['1', '2', '3', '4', '5', '6', '7', '8', '9', '10'], dtype='<U21')"
      ]
     },
     "execution_count": 18,
     "metadata": {},
     "output_type": "execute_result"
    }
   ],
   "source": [
    "py_list_2d[3:6][0]\n",
    "np_array_2d[3:6, 0]\n",
    "np_array_2d[:, 0]"
   ]
  },
  {
   "cell_type": "markdown",
   "id": "4591ee21",
   "metadata": {},
   "source": [
    "If you want ‘everything’ you just use :."
   ]
  },
  {
   "attachments": {},
   "cell_type": "markdown",
   "id": "123456",
   "metadata": {},
   "source": [
    "## 1.4 Growing lists"
   ]
  },
  {
   "cell_type": "markdown",
   "id": "7f617f83",
   "metadata": {},
   "source": [
    "NumPy arrays are invaluable, and their slicing syntax (e.g. [:3,0]) is more intuitive than lists. So, why do we even bother with lists? One advantage of lists is their ease and efficiency in growing. NumPy arrays are fantastic for fast math operations, **provided you do not change their size**. So, I will not discuss how to change the size of a NumPy array. Instead, let me show you how to grow a list. This will be useful later; for instance when you try to solve differential equations numerically.\n",
    "\n",
    "1.  a larger list from a smaller one."
   ]
  },
  {
   "cell_type": "code",
   "execution_count": 19,
   "id": "85703f92",
   "metadata": {},
   "outputs": [
    {
     "data": {
      "text/plain": [
       "[1, 2, 1, 2, 1, 2, 1, 2, 1, 2]"
      ]
     },
     "execution_count": 19,
     "metadata": {},
     "output_type": "execute_result"
    }
   ],
   "source": [
    "x=[1, 2]*5\n",
    "x"
   ]
  },
  {
   "cell_type": "markdown",
   "id": "4e2b2f74",
   "metadata": {},
   "source": [
    "2. Three ways to grow a list by appending one element at a time."
   ]
  },
  {
   "cell_type": "code",
   "execution_count": 20,
   "id": "f4f65039",
   "metadata": {},
   "outputs": [
    {
     "data": {
      "text/plain": [
       "[1, 2, 3, 4]"
      ]
     },
     "execution_count": 20,
     "metadata": {},
     "output_type": "execute_result"
    }
   ],
   "source": [
    "x=[1]\n",
    "x= x + [2]\n",
    "x= x + [3]\n",
    "x= x + [4]\n",
    "x\n",
    "x=[1]\n",
    "x+= [2]\n",
    "x+= [3]\n",
    "x+= [4]\n",
    "x\n",
    "x=[1]\n",
    "x.append(2)\n",
    "x.append(3)\n",
    "x.append(4)\n",
    "x"
   ]
  },
  {
   "cell_type": "markdown",
   "id": "ac3e27da",
   "metadata": {},
   "source": [
    "If you are wondering, there **are** differences between these three versions. Their execution speeds are different; the version with append() runs about 1.5 times faster than the rest!\n",
    "\n",
    "3. Here are three ways of incorporating multiple elements.\n",
    "Notice the difference between the effects of extend() and append()."
   ]
  },
  {
   "cell_type": "code",
   "execution_count": 21,
   "id": "7d4342cf",
   "metadata": {},
   "outputs": [
    {
     "data": {
      "text/plain": [
       "[1, 2, 3, [4, 5, 6]]"
      ]
     },
     "execution_count": 21,
     "metadata": {},
     "output_type": "execute_result"
    }
   ],
   "source": [
    "x = [1, 2, 3]\n",
    "x += [4, 5, 6]\n",
    "x\n",
    "x=[1, 2, 3]\n",
    "x.extend([4, 5, 6])\n",
    "x\n",
    "x=[1, 2, 3]\n",
    "x.append([4, 5, 6])\n",
    "x"
   ]
  },
  {
   "attachments": {},
   "cell_type": "markdown",
   "id": "123456",
   "metadata": {},
   "source": [
    "# Some loose ends"
   ]
  },
  {
   "attachments": {},
   "cell_type": "markdown",
   "id": "123456",
   "metadata": {},
   "source": [
    "## 1.5 Tuples"
   ]
  },
  {
   "cell_type": "markdown",
   "id": "c56ec301",
   "metadata": {},
   "source": [
    "Before we end this section, I must introduce you to another data storage structure called a tuple. Tuples are similar to lists, except they use ( ) and cannot be changed after creation (i.e., they are immutable).\n",
    "\n",
    "Let me first create a simple tuple."
   ]
  },
  {
   "cell_type": "code",
   "execution_count": 22,
   "id": "d4669c32",
   "metadata": {},
   "outputs": [],
   "source": [
    "a=(1, 2, 3)     # Define tuple"
   ]
  },
  {
   "cell_type": "markdown",
   "id": "ad453fa8",
   "metadata": {},
   "source": [
    "We can access its data…"
   ]
  },
  {
   "cell_type": "code",
   "execution_count": 23,
   "id": "da7f5808",
   "metadata": {},
   "outputs": [
    {
     "name": "stdout",
     "output_type": "stream",
     "text": [
      "1\n"
     ]
    }
   ],
   "source": [
    "print(a[0])    # Access data"
   ]
  },
  {
   "cell_type": "markdown",
   "id": "c9fc49e9",
   "metadata": {},
   "source": [
    "But, we cannot change the data."
   ]
  },
  {
   "cell_type": "code",
   "execution_count": 24,
   "id": "18668778",
   "metadata": {},
   "outputs": [
    {
     "ename": "TypeError",
     "evalue": "'tuple' object does not support item assignment",
     "output_type": "error",
     "traceback": [
      "\u001b[31m---------------------------------------------------------------------------\u001b[39m",
      "\u001b[31mTypeError\u001b[39m                                 Traceback (most recent call last)",
      "\u001b[36mCell\u001b[39m\u001b[36m \u001b[39m\u001b[32mIn[24]\u001b[39m\u001b[32m, line 2\u001b[39m\n\u001b[32m      1\u001b[39m \u001b[38;5;66;03m# The following will NOT work\u001b[39;00m\n\u001b[32m----> \u001b[39m\u001b[32m2\u001b[39m \u001b[43ma\u001b[49m\u001b[43m[\u001b[49m\u001b[32;43m0\u001b[39;49m\u001b[43m]\u001b[49m=-\u001b[32m1\u001b[39m\n\u001b[32m      3\u001b[39m a[\u001b[32m0\u001b[39m]+= [\u001b[32m10\u001b[39m]\n",
      "\u001b[31mTypeError\u001b[39m: 'tuple' object does not support item assignment"
     ]
    }
   ],
   "source": [
    "# The following will NOT work\n",
    "a[0]=-1\n",
    "a[0]+= [10]"
   ]
  },
  {
   "attachments": {},
   "cell_type": "markdown",
   "id": "123456",
   "metadata": {},
   "source": [
    "## 1.6 Be VERY careful when copying"
   ]
  },
  {
   "cell_type": "markdown",
   "id": "181ae438",
   "metadata": {},
   "source": [
    "Variables in Python have subtle features that might make your life miserable if you are not careful. You should be particularly mindful when making copies of lists and arrays.\n",
    "\n",
    "For example, if you want to copy a list, you might be tempted to do the following; PLEASE DON’T!"
   ]
  },
  {
   "cell_type": "code",
   "execution_count": 25,
   "id": "d4c2e347",
   "metadata": {},
   "outputs": [],
   "source": [
    "x=[1, 2, 3]\n",
    "y=x           # DON'T do this!\n",
    "z=x           # DON'T do this!"
   ]
  },
  {
   "cell_type": "markdown",
   "id": "856e6f97",
   "metadata": {},
   "source": [
    "The correct way to do this is as follows:"
   ]
  },
  {
   "cell_type": "code",
   "execution_count": 26,
   "id": "4f28fb8c",
   "metadata": {},
   "outputs": [],
   "source": [
    "x=[1, 2, 3]\n",
    "y=x.copy()\n",
    "z=x.copy()"
   ]
  },
  {
   "cell_type": "markdown",
   "id": "d863a566",
   "metadata": {},
   "source": [
    "**Note**: At this stage, you only have to know that you must use copy() to be safe; you **do not** have to understand why. However, if you want to, please refer to the discussion on mutable and immutable objects."
   ]
  },
  {
   "attachments": {},
   "cell_type": "markdown",
   "id": "123456",
   "metadata": {},
   "source": [
    "## Footnotes"
   ]
  }
 ],
 "metadata": {
  "kernelspec": {
   "display_name": "base",
   "language": "python",
   "name": "python3"
  },
  "language_info": {
   "codemirror_mode": {
    "name": "ipython",
    "version": 3
   },
   "file_extension": ".py",
   "mimetype": "text/x-python",
   "name": "python",
   "nbconvert_exporter": "python",
   "pygments_lexer": "ipython3",
   "version": "3.13.5"
  },
  "toc": {
   "base_numbering": 1,
   "nav_menu": {},
   "number_sections": true,
   "sideBar": true,
   "skip_h1_title": false,
   "title_cell": "Table of Contents",
   "title_sidebar": "Contents",
   "toc_cell": false,
   "toc_position": {},
   "toc_section_display": true,
   "toc_window_display": false
  }
 },
 "nbformat": 4,
 "nbformat_minor": 5
}

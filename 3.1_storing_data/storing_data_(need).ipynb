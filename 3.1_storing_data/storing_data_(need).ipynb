{
 "cells": [
  {
   "attachments": {},
   "cell_type": "markdown",
   "id": "123456",
   "metadata": {},
   "source": [
    "<div style=\"text-align:left;font-size:2em\"><span style=\"font-weight:bolder;font-size:1.25em\">SP2273 | Learning Portfolio</span><br><br><span style=\"font-weight:bold;color:darkred\">Storing Data (Need)</span></div>"
   ]
  },
  {
   "cell_type": "code",
   "execution_count": 36,
   "id": "7f7c79c7",
   "metadata": {},
   "outputs": [],
   "source": [
    "import numpy as np"
   ]
  },
  {
   "attachments": {},
   "cell_type": "markdown",
   "id": "123456",
   "metadata": {},
   "source": [
    "# What to expect in this chapter"
   ]
  },
  {
   "cell_type": "markdown",
   "id": "d0f7adf4",
   "metadata": {},
   "source": [
    "We are learning Python as a tool to help us understand science and solve problems related to science. To do this, we must interact with information/data and transform them to yield a solution. For this, it is essential to have ways to store and manipulate data easily and efficiently beyond the simple variables we have encountered so far. Python offers a variety of ways to store and manipulate data. You have already met the **list** and **dictionary** in a previous chapter. However, there are several more; here is a (non-comprehensive) list.\n",
    "\n",
    "1. Lists\n",
    "1. Numpy arrays\n",
    "1. Dictionaries\n",
    "1. Tuples\n",
    "1. Dataframes\n",
    "1. Classes\n",
    "\n",
    "In these chapters on basics, I will only discuss Python **lists**, Numpy **arrays**, **dictionaries** and **tuples**. If you want to learn about **dataframes** please look at the Data Processing basket in the Applications part. **Classes** are an advanced topic that I will touch on in the Nice chapter."
   ]
  },
  {
   "attachments": {},
   "cell_type": "markdown",
   "id": "123456",
   "metadata": {},
   "source": [
    "# 1 Lists, Arrays & Dictionaries"
   ]
  },
  {
   "attachments": {},
   "cell_type": "markdown",
   "id": "123456",
   "metadata": {},
   "source": [
    "## 1.1 Let’s compare"
   ]
  },
  {
   "cell_type": "markdown",
   "id": "e3ac211d",
   "metadata": {},
   "source": [
    "Let me show you how to store the same information (in this case, some superhero data) using lists, arrays and dictionaries.\n",
    "\n",
    "**Python Lists**"
   ]
  },
  {
   "cell_type": "code",
   "execution_count": 37,
   "id": "da5cc177",
   "metadata": {},
   "outputs": [],
   "source": [
    "py_super_names = [\"Black Widow\", \"Iron Man\", \"Doctor Strange\"]\n",
    "py_real_names = [\"Natasha Romanoff\", \"Tony Stark\", \"Stephen Strange\"]"
   ]
  },
  {
   "cell_type": "markdown",
   "id": "82d1d970",
   "metadata": {},
   "source": [
    "**Numpy Arrays**"
   ]
  },
  {
   "cell_type": "code",
   "execution_count": 38,
   "id": "d65e3b4c",
   "metadata": {},
   "outputs": [],
   "source": [
    "np_super_names = np.array([\"Black Widow\", \"Iron Man\", \"Doctor Strange\"])\n",
    "np_real_names = np.array([\"Natasha Romanoff\", \"Tony Stark\", \"Stephen Strange\"])"
   ]
  },
  {
   "cell_type": "markdown",
   "id": "5877d06c",
   "metadata": {},
   "source": [
    "**Dictionary**"
   ]
  },
  {
   "cell_type": "code",
   "execution_count": 39,
   "id": "9b79effa",
   "metadata": {},
   "outputs": [],
   "source": [
    "superhero_info = {\n",
    "    \"Natasha Romanoff\": \"Black Widow\",\n",
    "    \"Tony Stark\": \"Iron Man\",\n",
    "    \"Stephen Strange\": \"Doctor Strange\"\n",
    "}"
   ]
  },
  {
   "cell_type": "markdown",
   "id": "2a4cfea2",
   "metadata": {},
   "source": [
    "Notice:\n",
    "- Dictionaries use a key and an associated value separated by a :\n",
    "- The dictionary very elegantly holds the real and superhero names in one structure while we need two lists (or arrays) for the same data.\n",
    "- For lists and arrays, the order matters. I.e. ‘Iron Man’ must be in the same position as ‘Tony Stark’ for things to work.\n",
    "\n",
    "Lists (and arrays) offer many features that dictionaries don’t and vice versa. I will demonstrate these in a bit. Which data storage strategy to choose will depend on the problem you are trying to solve. More on this later; for the moment…\n",
    "\n",
    "By the way,\n",
    "- I added py and np in front of the variable for clarity. You can choose any name for the variables (provided that they are not a Python keyword like for, if).\n",
    "- I am being lazy; when I say ‘arrays’, I mean ‘NumPy arrays’, and when I say ‘lists’, I mean ‘Python lists’."
   ]
  },
  {
   "attachments": {},
   "cell_type": "markdown",
   "id": "123456",
   "metadata": {},
   "source": [
    "## 1.2 Accessing data from a list (or array)"
   ]
  },
  {
   "cell_type": "markdown",
   "id": "11dfb083",
   "metadata": {},
   "source": [
    "To access data from lists (and arrays), we need to use an index corresponding to the data’s position. Python is a zero-indexed language, meaning it starts counting at 0. So if you want to access a particular element in the list (or array), you need to specify the relevant index starting from zero. The image below shows the relationship between the position and index.\n",
    "\n",
    "![](https://sps.nus.edu.sg/python/docs/python_basics/03_storing-data/python-zero-indexed-counting.png)"
   ]
  },
  {
   "cell_type": "code",
   "execution_count": 40,
   "id": "00537ac4",
   "metadata": {},
   "outputs": [],
   "source": [
    "py_super_names = [\"Black Widow\", \"Iron Man\", \"Doctor Strange\"]\n",
    "py_real_names = [\"Natasha Romanoff\", \"Tony Stark\", \"Stephen Strange\"]"
   ]
  },
  {
   "cell_type": "code",
   "execution_count": 41,
   "id": "0a560262",
   "metadata": {},
   "outputs": [
    {
     "data": {
      "text/plain": [
       "'Natasha Romanoff'"
      ]
     },
     "execution_count": 41,
     "metadata": {},
     "output_type": "execute_result"
    }
   ],
   "source": [
    "py_real_names[0]"
   ]
  },
  {
   "cell_type": "code",
   "execution_count": 42,
   "id": "8a45064d",
   "metadata": {},
   "outputs": [
    {
     "data": {
      "text/plain": [
       "'Black Widow'"
      ]
     },
     "execution_count": 42,
     "metadata": {},
     "output_type": "execute_result"
    }
   ],
   "source": [
    "py_super_names[0]"
   ]
  },
  {
   "cell_type": "markdown",
   "id": "75086678",
   "metadata": {},
   "source": [
    "Using a negative index allows us to count from the back of the list. For instance, using the index -1 will give the last element. This is super useful because we can easily access the last element without knowing the list size."
   ]
  },
  {
   "cell_type": "code",
   "execution_count": 43,
   "id": "54844626",
   "metadata": {},
   "outputs": [
    {
     "data": {
      "text/plain": [
       "'Doctor Strange'"
      ]
     },
     "execution_count": 43,
     "metadata": {},
     "output_type": "execute_result"
    }
   ],
   "source": [
    "py_super_names[2]    # Forward indexing "
   ]
  },
  {
   "cell_type": "code",
   "execution_count": 44,
   "id": "8c3ee525",
   "metadata": {},
   "outputs": [
    {
     "data": {
      "text/plain": [
       "'Doctor Strange'"
      ]
     },
     "execution_count": 44,
     "metadata": {},
     "output_type": "execute_result"
    }
   ],
   "source": [
    "                     # We need to know the size \n",
    "                     # beforehand for this to work.\n",
    "py_super_names[-1]   # Reverse indexing"
   ]
  },
  {
   "attachments": {},
   "cell_type": "markdown",
   "id": "123456",
   "metadata": {},
   "source": [
    "## 1.3 Accessing data from a dictionary"
   ]
  },
  {
   "cell_type": "markdown",
   "id": "56e12397",
   "metadata": {},
   "source": [
    "Dictionaries hold data (values) paired with a key. i.e. you can access the value (in this case, the superhero name) using the real name as a key. Here is how it works:"
   ]
  },
  {
   "cell_type": "code",
   "execution_count": 45,
   "id": "d05b97c6",
   "metadata": {},
   "outputs": [],
   "source": [
    "superhero_info = {\n",
    "    \"Natasha Romanoff\": \"Black Widow\",\n",
    "    \"Tony Stark\": \"Iron Man\",\n",
    "    \"Stephen Strange\": \"Doctor Strange\"\n",
    "}                  "
   ]
  },
  {
   "cell_type": "code",
   "execution_count": 46,
   "id": "9199db40",
   "metadata": {},
   "outputs": [
    {
     "data": {
      "text/plain": [
       "'Black Widow'"
      ]
     },
     "execution_count": 46,
     "metadata": {},
     "output_type": "execute_result"
    }
   ],
   "source": [
    "superhero_info[\"Natasha Romanoff\"]"
   ]
  },
  {
   "cell_type": "markdown",
   "id": "1ba238a1",
   "metadata": {},
   "source": [
    "If you want, you can access all the keys and all the values as follows:"
   ]
  },
  {
   "cell_type": "code",
   "execution_count": 47,
   "id": "3d89c01c",
   "metadata": {},
   "outputs": [
    {
     "data": {
      "text/plain": [
       "dict_keys(['Natasha Romanoff', 'Tony Stark', 'Stephen Strange'])"
      ]
     },
     "execution_count": 47,
     "metadata": {},
     "output_type": "execute_result"
    }
   ],
   "source": [
    "superhero_info.keys()"
   ]
  },
  {
   "cell_type": "code",
   "execution_count": 48,
   "id": "70fdea62",
   "metadata": {},
   "outputs": [
    {
     "data": {
      "text/plain": [
       "dict_values(['Black Widow', 'Iron Man', 'Doctor Strange'])"
      ]
     },
     "execution_count": 48,
     "metadata": {},
     "output_type": "execute_result"
    }
   ],
   "source": [
    "superhero_info.values()"
   ]
  },
  {
   "attachments": {},
   "cell_type": "markdown",
   "id": "123456",
   "metadata": {},
   "source": [
    "## 1.4 Higher dimensional lists"
   ]
  },
  {
   "cell_type": "markdown",
   "id": "1f74e2d9",
   "metadata": {},
   "source": [
    "Unlike with a dictionary, we needed two lists to store the corresponding real and superhero names. An obvious way around the need to have two lists is to have a 2D list (or array) as follows."
   ]
  },
  {
   "cell_type": "code",
   "execution_count": 49,
   "id": "11444283",
   "metadata": {},
   "outputs": [],
   "source": [
    "py_superhero_info = [['Natasha Romanoff', 'Black Widow'],\n",
    "                     ['Tony Stark', 'Iron Man'],\n",
    "                     ['Stephen Strange', 'Doctor Strange']]"
   ]
  },
  {
   "attachments": {},
   "cell_type": "markdown",
   "id": "123456",
   "metadata": {},
   "source": [
    "# 2 Lists vs. Arrays"
   ]
  },
  {
   "cell_type": "markdown",
   "id": "11ff1864",
   "metadata": {},
   "source": [
    "Lists and arrays have some similarities but more differences. It is important to know these to make full use of these differences. So, let me now show you a few quick examples of using lists and arrays. These will allow you to appreciate the versatility that each offers.\n",
    "\n"
   ]
  },
  {
   "attachments": {},
   "cell_type": "markdown",
   "id": "123456",
   "metadata": {},
   "source": [
    "## 2.1 Size"
   ]
  },
  {
   "cell_type": "markdown",
   "id": "98334779",
   "metadata": {},
   "source": [
    "Often, you need to know how many elements there are in lists or arrays. We can use the len() function for this purpose for both lists and arrays. However, arrays also offer other options.\n",
    "\n"
   ]
  },
  {
   "cell_type": "code",
   "execution_count": 50,
   "id": "511bb9ce",
   "metadata": {},
   "outputs": [],
   "source": [
    "py_list_2d = [[1, \"A\"], [2, \"B\"], [3, \"C\"], [4, \"D\"],\n",
    "              [5, \"E\"], [6, \"F\"], [7, \"G\"], [8, \"H\"],\n",
    "              [9, \"I\"], [10, \"J\"]]\n",
    "\n",
    "np_array_2d = np.array(py_list_2d)      # Reusing the Python list \n",
    "                                        # to create a NEW\n",
    "                                        # NumPy array"
   ]
  },
  {
   "cell_type": "code",
   "execution_count": 51,
   "id": "b0268329",
   "metadata": {},
   "outputs": [
    {
     "data": {
      "text/plain": [
       "(10, 2)"
      ]
     },
     "execution_count": 51,
     "metadata": {},
     "output_type": "execute_result"
    }
   ],
   "source": [
    "len(py_list_2d)\n",
    "len(np_array_2d)\n",
    "np_array_2d.shape"
   ]
  },
  {
   "cell_type": "markdown",
   "id": "5b106372",
   "metadata": {},
   "source": [
    "Notice the absence of brackets ( ) in shape above. This is because shape is not a function. Instead, it is a property or attribute of the NumPy array."
   ]
  },
  {
   "attachments": {},
   "cell_type": "markdown",
   "id": "123456",
   "metadata": {},
   "source": [
    "## 2.2 Arrays are fussy about type"
   ]
  },
  {
   "cell_type": "markdown",
   "id": "4b5c367f",
   "metadata": {},
   "source": [
    "Please recall the previous discussion about data types (e.g., int, float, str). One prominent difference between lists and arrays is that arrays insist on having only a single data type; lists are more accommodating. Consider the following example and notice how the numbers are converted to English (' ') when we create the NumPy array."
   ]
  },
  {
   "cell_type": "code",
   "execution_count": 52,
   "id": "50d7859b",
   "metadata": {},
   "outputs": [],
   "source": [
    "py_list = [1, 1.5, 'A']\n",
    "np_array = np.array(py_list)"
   ]
  },
  {
   "cell_type": "code",
   "execution_count": 53,
   "id": "df706e8c",
   "metadata": {},
   "outputs": [
    {
     "data": {
      "text/plain": [
       "array(['1', '1.5', 'A'], dtype='<U32')"
      ]
     },
     "execution_count": 53,
     "metadata": {},
     "output_type": "execute_result"
    }
   ],
   "source": [
    "py_list\n",
    "np_array"
   ]
  },
  {
   "cell_type": "markdown",
   "id": "8f4fb0a7",
   "metadata": {},
   "source": [
    "When dealing with datasets with both numbers and text, you must be mindful of this restriction. However, this is just an annoyance and not a problem as we can easily change type (typecast) using the ‘hidden’ function astypes(). More about this in a later chapter. For the moment,\n",
    "\n"
   ]
  },
  {
   "attachments": {},
   "cell_type": "markdown",
   "id": "123456",
   "metadata": {},
   "source": [
    "## 2.3 Adding a number"
   ]
  },
  {
   "cell_type": "code",
   "execution_count": 54,
   "id": "93be8635",
   "metadata": {},
   "outputs": [],
   "source": [
    "py_list = [1, 2, 3, 4, 5]\n",
    "np_array = np.array(py_list)         # Reusing the Python list\n",
    "                                     # to create a NEW\n",
    "                                     # NumPy array"
   ]
  },
  {
   "cell_type": "code",
   "execution_count": 55,
   "id": "333a38a2",
   "metadata": {},
   "outputs": [
    {
     "data": {
      "text/plain": [
       "array([11, 12, 13, 14, 15])"
      ]
     },
     "execution_count": 55,
     "metadata": {},
     "output_type": "execute_result"
    }
   ],
   "source": [
    "np_array + 10"
   ]
  },
  {
   "cell_type": "code",
   "execution_count": 56,
   "id": "1ea624a4",
   "metadata": {},
   "outputs": [
    {
     "ename": "TypeError",
     "evalue": "can only concatenate list (not \"int\") to list",
     "output_type": "error",
     "traceback": [
      "\u001b[31m---------------------------------------------------------------------------\u001b[39m",
      "\u001b[31mTypeError\u001b[39m                                 Traceback (most recent call last)",
      "\u001b[36mCell\u001b[39m\u001b[36m \u001b[39m\u001b[32mIn[56]\u001b[39m\u001b[32m, line 1\u001b[39m\n\u001b[32m----> \u001b[39m\u001b[32m1\u001b[39m \u001b[43mpy_list\u001b[49m\u001b[43m \u001b[49m\u001b[43m+\u001b[49m\u001b[43m \u001b[49m\u001b[32;43m10\u001b[39;49m        \u001b[38;5;66;03m# Won't work!\u001b[39;00m\n",
      "\u001b[31mTypeError\u001b[39m: can only concatenate list (not \"int\") to list"
     ]
    }
   ],
   "source": [
    "py_list + 10        # Won't work!"
   ]
  },
  {
   "attachments": {},
   "cell_type": "markdown",
   "id": "123456",
   "metadata": {},
   "source": [
    "## 2.4 Adding another list"
   ]
  },
  {
   "cell_type": "code",
   "execution_count": null,
   "id": "e657ebfe",
   "metadata": {},
   "outputs": [],
   "source": [
    "py_list_1 = [1, 2, 3, 4, 5]\n",
    "py_list_2 = [10, 20, 30, 40, 50]\n",
    "\n",
    "np_array_1 = np.array(py_list_1)\n",
    "np_array_2 = np.array(py_list_2)"
   ]
  },
  {
   "cell_type": "code",
   "execution_count": null,
   "id": "1c6a82ee",
   "metadata": {},
   "outputs": [
    {
     "data": {
      "text/plain": [
       "array([11, 22, 33, 44, 55])"
      ]
     },
     "execution_count": 24,
     "metadata": {},
     "output_type": "execute_result"
    }
   ],
   "source": [
    "py_list_1 + py_list_2\n",
    "np_array_1 + np_array_2"
   ]
  },
  {
   "cell_type": "markdown",
   "id": "c5ba0e34",
   "metadata": {},
   "source": [
    "So, adding lists causes them to grow while adding arrays is an element-wise operation.\n",
    "\n"
   ]
  },
  {
   "attachments": {},
   "cell_type": "markdown",
   "id": "123456",
   "metadata": {},
   "source": [
    "## 2.5 Multiplying by a Number"
   ]
  },
  {
   "cell_type": "code",
   "execution_count": null,
   "id": "5f2f2218",
   "metadata": {},
   "outputs": [],
   "source": [
    "py_list = [1, 2, 3, 4, 5]\n",
    "np_array = np.array(py_list)         "
   ]
  },
  {
   "cell_type": "code",
   "execution_count": null,
   "id": "76f33f95",
   "metadata": {},
   "outputs": [
    {
     "data": {
      "text/plain": [
       "array([ 2,  4,  6,  8, 10])"
      ]
     },
     "execution_count": 26,
     "metadata": {},
     "output_type": "execute_result"
    }
   ],
   "source": [
    "py_list*2\n",
    "np_array*2"
   ]
  },
  {
   "cell_type": "markdown",
   "id": "8eaadc44",
   "metadata": {},
   "source": [
    "So multiplying by a number makes a list grow, whereas an array multiplies its elements by the number!"
   ]
  },
  {
   "attachments": {},
   "cell_type": "markdown",
   "id": "123456",
   "metadata": {},
   "source": [
    "## 2.6 Squaring"
   ]
  },
  {
   "cell_type": "code",
   "execution_count": null,
   "id": "9902681e",
   "metadata": {},
   "outputs": [],
   "source": [
    "py_list = [1, 2, 3, 4, 5]\n",
    "np_array = np.array(py_list)"
   ]
  },
  {
   "cell_type": "code",
   "execution_count": null,
   "id": "f7f22e6b",
   "metadata": {},
   "outputs": [
    {
     "data": {
      "text/plain": [
       "array([ 1,  4,  9, 16, 25])"
      ]
     },
     "execution_count": 28,
     "metadata": {},
     "output_type": "execute_result"
    }
   ],
   "source": [
    "np_array**2"
   ]
  },
  {
   "cell_type": "markdown",
   "id": "44061833",
   "metadata": {},
   "source": [
    "Lists"
   ]
  },
  {
   "cell_type": "code",
   "execution_count": null,
   "id": "43a14203",
   "metadata": {},
   "outputs": [
    {
     "ename": "TypeError",
     "evalue": "unsupported operand type(s) for ** or pow(): 'list' and 'int'",
     "output_type": "error",
     "traceback": [
      "\u001b[31m---------------------------------------------------------------------------\u001b[39m",
      "\u001b[31mTypeError\u001b[39m                                 Traceback (most recent call last)",
      "\u001b[36mCell\u001b[39m\u001b[36m \u001b[39m\u001b[32mIn[29]\u001b[39m\u001b[32m, line 1\u001b[39m\n\u001b[32m----> \u001b[39m\u001b[32m1\u001b[39m \u001b[43mpy_list\u001b[49m\u001b[43m*\u001b[49m\u001b[43m*\u001b[49m\u001b[32;43m2\u001b[39;49m                      \u001b[38;5;66;03m# Won't work!  \u001b[39;00m\n",
      "\u001b[31mTypeError\u001b[39m: unsupported operand type(s) for ** or pow(): 'list' and 'int'"
     ]
    }
   ],
   "source": [
    "py_list**2                      # Won't work!  "
   ]
  },
  {
   "attachments": {},
   "cell_type": "markdown",
   "id": "123456",
   "metadata": {},
   "source": [
    "## 2.7 Asking questions"
   ]
  },
  {
   "cell_type": "code",
   "execution_count": null,
   "id": "7136f8ea",
   "metadata": {},
   "outputs": [],
   "source": [
    "py_list = [1, 2, 3, 4, 5]\n",
    "np_array = np.array(py_list)         "
   ]
  },
  {
   "cell_type": "code",
   "execution_count": null,
   "id": "c74d39a0",
   "metadata": {},
   "outputs": [
    {
     "data": {
      "text/plain": [
       "array([False, False, False,  True,  True])"
      ]
     },
     "execution_count": 31,
     "metadata": {},
     "output_type": "execute_result"
    }
   ],
   "source": [
    "py_list == 3     # Works, but what IS the question?\n",
    "np_array == 3  \n",
    "np_array > 3  "
   ]
  },
  {
   "cell_type": "code",
   "execution_count": null,
   "id": "9eb2d3c4",
   "metadata": {},
   "outputs": [
    {
     "ename": "TypeError",
     "evalue": "'>' not supported between instances of 'list' and 'int'",
     "output_type": "error",
     "traceback": [
      "\u001b[31m---------------------------------------------------------------------------\u001b[39m",
      "\u001b[31mTypeError\u001b[39m                                 Traceback (most recent call last)",
      "\u001b[36mCell\u001b[39m\u001b[36m \u001b[39m\u001b[32mIn[32]\u001b[39m\u001b[32m, line 1\u001b[39m\n\u001b[32m----> \u001b[39m\u001b[32m1\u001b[39m \u001b[43mpy_list\u001b[49m\u001b[43m \u001b[49m\u001b[43m>\u001b[49m\u001b[43m \u001b[49m\u001b[32;43m3\u001b[39;49m      \u001b[38;5;66;03m# Won't work!\u001b[39;00m\n",
      "\u001b[31mTypeError\u001b[39m: '>' not supported between instances of 'list' and 'int'"
     ]
    }
   ],
   "source": [
    "py_list > 3      # Won't work!"
   ]
  },
  {
   "attachments": {},
   "cell_type": "markdown",
   "id": "123456",
   "metadata": {},
   "source": [
    "## 2.8 Mathematics"
   ]
  },
  {
   "cell_type": "code",
   "execution_count": 57,
   "id": "8a79ada1",
   "metadata": {},
   "outputs": [
    {
     "data": {
      "text/plain": [
       "np.float64(1.4142135623730951)"
      ]
     },
     "execution_count": 57,
     "metadata": {},
     "output_type": "execute_result"
    }
   ],
   "source": [
    "py_list = [1, 2, 3, 4, 5]\n",
    "np_array = np.array(py_list) \n",
    "sum(py_list)     # sum() is a base Python function\n",
    "max(py_list)     # max() is a base Python function\n",
    "min(py_list)     # min() is a base Python function\n",
    "np_array.sum()\n",
    "np_array.max()\n",
    "np_array.min()\n",
    "np_array.mean()\n",
    "np_array.std()        "
   ]
  },
  {
   "cell_type": "code",
   "execution_count": 58,
   "id": "a1000aa2",
   "metadata": {},
   "outputs": [
    {
     "ename": "AttributeError",
     "evalue": "'list' object has no attribute 'sum'",
     "output_type": "error",
     "traceback": [
      "\u001b[31m---------------------------------------------------------------------------\u001b[39m",
      "\u001b[31mAttributeError\u001b[39m                            Traceback (most recent call last)",
      "\u001b[36mCell\u001b[39m\u001b[36m \u001b[39m\u001b[32mIn[58]\u001b[39m\u001b[32m, line 1\u001b[39m\n\u001b[32m----> \u001b[39m\u001b[32m1\u001b[39m \u001b[43mpy_list\u001b[49m\u001b[43m.\u001b[49m\u001b[43msum\u001b[49m()   \u001b[38;5;66;03m# Won't work!\u001b[39;00m\n",
      "\u001b[31mAttributeError\u001b[39m: 'list' object has no attribute 'sum'"
     ]
    }
   ],
   "source": [
    "py_list.sum()   # Won't work!"
   ]
  },
  {
   "attachments": {},
   "cell_type": "markdown",
   "id": "123456",
   "metadata": {},
   "source": [
    "## Footnotes"
   ]
  }
 ],
 "metadata": {
  "kernelspec": {
   "display_name": "base",
   "language": "python",
   "name": "python3"
  },
  "language_info": {
   "codemirror_mode": {
    "name": "ipython",
    "version": 3
   },
   "file_extension": ".py",
   "mimetype": "text/x-python",
   "name": "python",
   "nbconvert_exporter": "python",
   "pygments_lexer": "ipython3",
   "version": "3.13.5"
  },
  "toc": {
   "base_numbering": 1,
   "nav_menu": {},
   "number_sections": true,
   "sideBar": true,
   "skip_h1_title": false,
   "title_cell": "Table of Contents",
   "title_sidebar": "Contents",
   "toc_cell": false,
   "toc_position": {},
   "toc_section_display": true,
   "toc_window_display": false
  }
 },
 "nbformat": 4,
 "nbformat_minor": 5
}

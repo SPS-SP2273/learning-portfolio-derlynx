{
 "cells": [
  {
   "attachments": {},
   "cell_type": "markdown",
   "id": "123456",
   "metadata": {},
   "source": [
    "<div style=\"text-align:left;font-size:2em\"><span style=\"font-weight:bolder;font-size:1.25em\">SP2273 | Learning Portfolio</span><br><br><span style=\"font-weight:bold;color:darkred\">Loops (Need)</span></div>"
   ]
  },
  {
   "attachments": {},
   "cell_type": "markdown",
   "id": "123456",
   "metadata": {},
   "source": [
    "# What to expect in this chapter"
   ]
  },
  {
   "cell_type": "markdown",
   "id": "85d8112f",
   "metadata": {},
   "source": [
    "One of the most powerful features of programming is the ability to repeat a task over and over again. This can be as mundane as renaming a set of files or more involved, like running the same statistical analysis on many experimental data sets. While humans quickly become tired (and bored) with such tasks, computers excel at mindless repetitive tasks. This section will show you how to repeat things in Python. This topic is called loops or iterations and is one of the most valuable features of any programming language.\n",
    "\n",
    "Python offers two mechanisms for looping. One is the for statement, and the other is the while statement. We will spend more time on the former as it is the more used of the two."
   ]
  },
  {
   "attachments": {},
   "cell_type": "markdown",
   "id": "123456",
   "metadata": {},
   "source": [
    "# 1 The for iterator"
   ]
  },
  {
   "cell_type": "markdown",
   "id": "bbb758ce",
   "metadata": {},
   "source": [
    "Let me quickly show you a few examples of using a for loop.\n",
    "\n",
    "Let’s say I want to print a message corresponding to every superhero in the following list."
   ]
  },
  {
   "cell_type": "code",
   "execution_count": 1,
   "id": "1c64036a",
   "metadata": {},
   "outputs": [],
   "source": [
    "real_names = [\"Natasha Romanoff\", \"Tony Stark\", \"Stephen Strange\"]"
   ]
  },
  {
   "cell_type": "markdown",
   "id": "799bd9ad",
   "metadata": {},
   "source": [
    "Here is one (poor) way of doing this.\n",
    "\n"
   ]
  },
  {
   "cell_type": "code",
   "execution_count": 2,
   "id": "f2a71308",
   "metadata": {},
   "outputs": [
    {
     "name": "stdout",
     "output_type": "stream",
     "text": [
      "Natasha Romanoff is a Marvel superhero!\n",
      "Tony Stark is a Marvel superhero!\n",
      "Stephen Strange is a Marvel superhero!\n"
     ]
    }
   ],
   "source": [
    "name=real_names[0]\n",
    "print(f\"{name} is a Marvel superhero!\")\n",
    "\n",
    "name=real_names[1]\n",
    "print(f\"{name} is a Marvel superhero!\")\n",
    "\n",
    "name=real_names[2]\n",
    "print(f\"{name} is a Marvel superhero!\")"
   ]
  },
  {
   "cell_type": "markdown",
   "id": "63797f2b",
   "metadata": {},
   "source": [
    "This way of programming is not very good because:\n",
    "\n",
    "1. it does not scale very well (imagine if you have a 100 names!),\n",
    "1. it is cumbersome to make changes, you have to do it three times.\n",
    "1. it is highly error prone, since you need to type something new (even if you are copying and pasting most of it).\n",
    "This is where a for loop can come in handy."
   ]
  },
  {
   "attachments": {},
   "cell_type": "markdown",
   "id": "123456",
   "metadata": {},
   "source": [
    "## 1.1 for with a list"
   ]
  },
  {
   "cell_type": "markdown",
   "id": "fbddb3e2",
   "metadata": {},
   "source": [
    "I can achieve the same result using a for loop as follows:"
   ]
  },
  {
   "cell_type": "code",
   "execution_count": 3,
   "id": "dae32c6c",
   "metadata": {},
   "outputs": [
    {
     "name": "stdout",
     "output_type": "stream",
     "text": [
      "Natasha Romanoff is a Marvel superhero!\n",
      "Tony Stark is a Marvel superhero!\n",
      "Stephen Strange is a Marvel superhero!\n"
     ]
    }
   ],
   "source": [
    "for name in real_names:\n",
    "    print(f\"{name} is a Marvel superhero!\")"
   ]
  },
  {
   "cell_type": "markdown",
   "id": "ebe04de9",
   "metadata": {},
   "source": [
    "Notice the structure of the for loop;\n",
    "\n",
    "- it goes through the list and assigns name the value of each element of the list.\n",
    "- it then runs the code-block using this value of name.\n",
    "- the code block is deginted by using : and tabs like with if."
   ]
  },
  {
   "cell_type": "markdown",
   "id": "6493d2d9",
   "metadata": {},
   "source": [
    "By the way, there is nothing special about the names of the variables I have used. The following will work too. However, it will not be very readable because x is a bit cryptic in this context."
   ]
  },
  {
   "cell_type": "code",
   "execution_count": 4,
   "id": "ee57aaa1",
   "metadata": {},
   "outputs": [
    {
     "name": "stdout",
     "output_type": "stream",
     "text": [
      "Natasha Romanoff is a Marvel superhero!\n",
      "Tony Stark is a Marvel superhero!\n",
      "Stephen Strange is a Marvel superhero!\n"
     ]
    }
   ],
   "source": [
    "for x in real_names:\n",
    "    print(f\"{x} is a Marvel superhero!\")"
   ]
  },
  {
   "attachments": {},
   "cell_type": "markdown",
   "id": "123456",
   "metadata": {},
   "source": [
    "## 1.2 for with enumerate"
   ]
  },
  {
   "cell_type": "markdown",
   "id": "5379c1b3",
   "metadata": {},
   "source": [
    "Let’s say we want to do a bit more, like using the information in both of the following lists."
   ]
  },
  {
   "cell_type": "code",
   "execution_count": 5,
   "id": "f572e9c2",
   "metadata": {},
   "outputs": [],
   "source": [
    "super_names = [\"Black Widow\", \"Iron Man\", \"Doctor Strange\"]\n",
    "real_names = [\"Natasha Romanoff\", \"Tony Stark\", \"Stephen Strange\"]"
   ]
  },
  {
   "cell_type": "markdown",
   "id": "c8d2549b",
   "metadata": {},
   "source": [
    "Since the for loop only accepts one list, we need to do something else to access the data in both lists. One option is to use enumerate(). Let me first show you how enumerate() works."
   ]
  },
  {
   "cell_type": "code",
   "execution_count": 6,
   "id": "785711cf",
   "metadata": {},
   "outputs": [
    {
     "name": "stdout",
     "output_type": "stream",
     "text": [
      "0: Natasha Romanoff is a Marvel superhero!\n",
      "1: Tony Stark is a Marvel superhero!\n",
      "2: Stephen Strange is a Marvel superhero!\n"
     ]
    }
   ],
   "source": [
    "for count, name in enumerate(real_names):\n",
    "    print(f'{count}: {name} is a Marvel superhero!')"
   ]
  },
  {
   "cell_type": "markdown",
   "id": "2800d3f5",
   "metadata": {},
   "source": [
    "You can think of enumerate() as something that keeps count. In the above example, enumerate() not only gives the elements of the list, it also gives you a number (that is stored in count).\n",
    "\n",
    "Other than counting, we can use the count given by enumerate() to index the other list!"
   ]
  },
  {
   "cell_type": "code",
   "execution_count": 7,
   "id": "a0bd8b61",
   "metadata": {},
   "outputs": [
    {
     "name": "stdout",
     "output_type": "stream",
     "text": [
      "Natasha Romanoff is Black Widow!\n",
      "Tony Stark is Iron Man!\n",
      "Stephen Strange is Doctor Strange!\n"
     ]
    }
   ],
   "source": [
    "for index, name in enumerate(real_names):\n",
    "    superhero_name = super_names[index]\n",
    "    print(f'{name} is {superhero_name}!')"
   ]
  },
  {
   "cell_type": "markdown",
   "id": "701bd23b",
   "metadata": {},
   "source": [
    "Before we move on, I would like to highlight two things:\n",
    "\n",
    "1. Notice how I changed the variable name used with enumerate() to (count and index) to match their logical use. This makes it easy to iimediately see what you are doing (i.e., the intention) wiht the code. Python does not really care abot this, but remember that we write programmes for humans!\n",
    "\n",
    "1. Although by default, enumerate() starts counting from 0, we can easily change it to start at another value, say 100."
   ]
  },
  {
   "cell_type": "code",
   "execution_count": 8,
   "id": "f60a8331",
   "metadata": {},
   "outputs": [
    {
     "name": "stdout",
     "output_type": "stream",
     "text": [
      "100: Natasha Romanoff is a Marvel superhero!\n",
      "101: Tony Stark is a Marvel superhero!\n",
      "102: Stephen Strange is a Marvel superhero!\n"
     ]
    }
   ],
   "source": [
    "for count, name in enumerate(real_names, 100):\n",
    "    print(f'{count}: {name} is a Marvel superhero!')"
   ]
  },
  {
   "attachments": {},
   "cell_type": "markdown",
   "id": "123456",
   "metadata": {},
   "source": [
    "## 1.3 for with range"
   ]
  },
  {
   "cell_type": "markdown",
   "id": "cc2553ab",
   "metadata": {},
   "source": [
    "Yet, another way to achieve the result above is by using the function range(). But, first lets see what range() can do.\n",
    "\n",
    "1. We can use range() to get the for loop to run a given number of loops (5 in this example)."
   ]
  },
  {
   "cell_type": "code",
   "execution_count": 9,
   "id": "13f2e71d",
   "metadata": {},
   "outputs": [
    {
     "name": "stdout",
     "output_type": "stream",
     "text": [
      "0\n",
      "1\n",
      "2\n",
      "3\n",
      "4\n"
     ]
    }
   ],
   "source": [
    "for i in range(5):\n",
    "    print(i)"
   ]
  },
  {
   "cell_type": "markdown",
   "id": "524c7740",
   "metadata": {},
   "source": [
    "2. We can tailor the starting and ending values…\n",
    "\n"
   ]
  },
  {
   "cell_type": "code",
   "execution_count": 10,
   "id": "93b8dcdf",
   "metadata": {},
   "outputs": [
    {
     "name": "stdout",
     "output_type": "stream",
     "text": [
      "5\n",
      "6\n",
      "7\n",
      "8\n",
      "9\n"
     ]
    }
   ],
   "source": [
    "for i in range(5, 10):\n",
    "    print(i)"
   ]
  },
  {
   "cell_type": "markdown",
   "id": "21a5d837",
   "metadata": {},
   "source": [
    "3. We can even adjust the step size."
   ]
  },
  {
   "cell_type": "code",
   "execution_count": 11,
   "id": "b78da830",
   "metadata": {},
   "outputs": [
    {
     "name": "stdout",
     "output_type": "stream",
     "text": [
      "1\n",
      "4\n",
      "7\n"
     ]
    }
   ],
   "source": [
    "for i in range(1, 10, 3):\n",
    "    print(i)"
   ]
  },
  {
   "cell_type": "markdown",
   "id": "0e80a2b4",
   "metadata": {},
   "source": [
    "Note:\n",
    "\n",
    "- Functions like range() and enumerate() only work with looping structures.\n",
    "- range() always ends one short of the ending number.\n",
    "\n",
    "Now, let’s return to our initial problem of printing superhero names. We can use range() as follows:"
   ]
  },
  {
   "cell_type": "code",
   "execution_count": 12,
   "id": "08f9c723",
   "metadata": {},
   "outputs": [
    {
     "name": "stdout",
     "output_type": "stream",
     "text": [
      "Natasha Romanoff is Marvel's Black Widow!\n",
      "Tony Stark is Marvel's Iron Man!\n",
      "Stephen Strange is Marvel's Doctor Strange!\n"
     ]
    }
   ],
   "source": [
    "for i in range(len(real_names)):\n",
    "    real_name = real_names[i]\n",
    "    super_name = super_names[i]        \n",
    "    print(f\"{real_name} is Marvel's {super_name}!\")"
   ]
  },
  {
   "cell_type": "markdown",
   "id": "a3b69b5a",
   "metadata": {},
   "source": [
    "Notice that I have used the len(real_names) to get how many times the loop should run."
   ]
  },
  {
   "attachments": {},
   "cell_type": "markdown",
   "id": "123456",
   "metadata": {},
   "source": [
    "# 2 while"
   ]
  },
  {
   "cell_type": "code",
   "execution_count": 13,
   "id": "e423d40a",
   "metadata": {},
   "outputs": [
    {
     "name": "stdout",
     "output_type": "stream",
     "text": [
      "0\n",
      "1\n",
      "2\n",
      "3\n",
      "4\n"
     ]
    }
   ],
   "source": [
    "number = 0\n",
    "\n",
    "while number < 5:\n",
    "    print(number)\n",
    "    number += 1"
   ]
  },
  {
   "cell_type": "markdown",
   "id": "d235b363",
   "metadata": {},
   "source": [
    "Now let’s take a quick look at the while loop. A while loop is set up so that it keeps on running **while** a condition is True. So the while loop checks the condition at the start and begins another loop if it is True.\n",
    "\n",
    "In the adjoining example the loop keeps on going while the number is less than 5.\n",
    "\n",
    "A useful feature of the while loop is that you do not need to know beforehand how many iterations are needed."
   ]
  }
 ],
 "metadata": {
  "kernelspec": {
   "display_name": "base",
   "language": "python",
   "name": "python3"
  },
  "language_info": {
   "codemirror_mode": {
    "name": "ipython",
    "version": 3
   },
   "file_extension": ".py",
   "mimetype": "text/x-python",
   "name": "python",
   "nbconvert_exporter": "python",
   "pygments_lexer": "ipython3",
   "version": "3.13.5"
  },
  "toc": {
   "base_numbering": 1,
   "nav_menu": {},
   "number_sections": true,
   "sideBar": true,
   "skip_h1_title": false,
   "title_cell": "Table of Contents",
   "title_sidebar": "Contents",
   "toc_cell": false,
   "toc_position": {},
   "toc_section_display": true,
   "toc_window_display": false
  }
 },
 "nbformat": 4,
 "nbformat_minor": 5
}

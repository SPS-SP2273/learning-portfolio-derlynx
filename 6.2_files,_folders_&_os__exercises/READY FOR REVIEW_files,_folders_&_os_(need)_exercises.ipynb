{
 "cells": [
  {
   "attachments": {},
   "cell_type": "markdown",
   "id": "123456",
   "metadata": {},
   "source": [
    "<div style=\"text-align:left;font-size:2em\"><span style=\"font-weight:bolder;font-size:1.25em\">SP2273 | Learning Portfolio</span><br><br><span style=\"font-weight:bold;color:darkred\">Files, Folders & OS (Need) Exercises</span></div>"
   ]
  },
  {
   "cell_type": "markdown",
   "id": "ad6a975d",
   "metadata": {
    "vscode": {
     "languageId": "plaintext"
    }
   },
   "source": [
    "# Exercise 1 (Tidying a collaboration)"
   ]
  },
  {
   "cell_type": "code",
   "execution_count": null,
   "id": "28c89eb1",
   "metadata": {},
   "outputs": [
    {
     "name": "stdout",
     "output_type": "stream",
     "text": [
      "10-08_singapore.txt\n",
      "oct-08_singapore.txt ----> 10-08_singapore.txt\n",
      "jul-10_cairo.txt ----> 07-10_cairo.txt\n",
      "may-15_dhaka.txt ----> 05-15_dhaka.txt\n",
      "may-13_cairo.txt ----> 05-13_cairo.txt\n",
      "oct-21_cairo.txt ----> 10-21_cairo.txt\n",
      "jan-10_singapore.txt ----> 01-10_singapore.txt\n",
      "jun-20_tokyo.txt ----> 06-20_tokyo.txt\n",
      "aug-06_jakarta.txt ----> 08-06_jakarta.txt\n",
      "dec-21_karachi.txt ----> 12-21_karachi.txt\n",
      "jan-01_tokyo.txt ----> 01-01_tokyo.txt\n",
      "All .txt files renamed!\n",
      "Creating Cities\\Cairo\n",
      "Creating Cities\\Dhaka\n",
      "Creating Cities\\Jakarta\n",
      "Creating Cities\\Karachi\n",
      "Creating Cities\\Manila\n",
      "Creating Cities\\Melbourne\n",
      "Creating Cities\\Osaka\n",
      "Creating Cities\\Shanghai\n",
      "Creating Cities\\Singapore\n",
      "Creating Cities\\Tokyo\n",
      "['os-collaboration-exercise-data\\\\01-02_cairo.txt', 'os-collaboration-exercise-data\\\\01-03_cairo.txt', 'os-collaboration-exercise-data\\\\01-04_cairo.txt', 'os-collaboration-exercise-data\\\\01-05_cairo.txt', 'os-collaboration-exercise-data\\\\01-07_cairo.txt', 'os-collaboration-exercise-data\\\\01-08_cairo.txt', 'os-collaboration-exercise-data\\\\01-09_cairo.txt', 'os-collaboration-exercise-data\\\\01-11_cairo.txt', 'os-collaboration-exercise-data\\\\01-12_cairo.txt', 'os-collaboration-exercise-data\\\\01-13_cairo.txt', 'os-collaboration-exercise-data\\\\01-15_cairo.txt', 'os-collaboration-exercise-data\\\\01-16_cairo.txt', 'os-collaboration-exercise-data\\\\01-19_cairo.txt', 'os-collaboration-exercise-data\\\\01-20_cairo.txt', 'os-collaboration-exercise-data\\\\01-21_cairo.txt', 'os-collaboration-exercise-data\\\\01-23_cairo.txt', 'os-collaboration-exercise-data\\\\01-27_cairo.txt', 'os-collaboration-exercise-data\\\\01-30_cairo.txt', 'os-collaboration-exercise-data\\\\02-10_cairo.txt', 'os-collaboration-exercise-data\\\\02-17_cairo.txt', 'os-collaboration-exercise-data\\\\02-20_cairo.txt', 'os-collaboration-exercise-data\\\\02-22_cairo.txt', 'os-collaboration-exercise-data\\\\02-25_cairo.txt', 'os-collaboration-exercise-data\\\\02-26_cairo.txt', 'os-collaboration-exercise-data\\\\03-05_cairo.txt', 'os-collaboration-exercise-data\\\\03-06_cairo.txt', 'os-collaboration-exercise-data\\\\03-12_cairo.txt', 'os-collaboration-exercise-data\\\\03-14_cairo.txt', 'os-collaboration-exercise-data\\\\03-19_cairo.txt', 'os-collaboration-exercise-data\\\\03-24_cairo.txt', 'os-collaboration-exercise-data\\\\04-02_cairo.txt', 'os-collaboration-exercise-data\\\\04-06_cairo.txt', 'os-collaboration-exercise-data\\\\04-07_cairo.txt', 'os-collaboration-exercise-data\\\\04-10_cairo.txt', 'os-collaboration-exercise-data\\\\04-12_cairo.txt', 'os-collaboration-exercise-data\\\\04-13_cairo.txt', 'os-collaboration-exercise-data\\\\04-14_cairo.txt', 'os-collaboration-exercise-data\\\\04-15_cairo.txt', 'os-collaboration-exercise-data\\\\04-17_cairo.txt', 'os-collaboration-exercise-data\\\\04-20_cairo.txt', 'os-collaboration-exercise-data\\\\04-21_cairo.txt', 'os-collaboration-exercise-data\\\\04-22_cairo.txt', 'os-collaboration-exercise-data\\\\04-23_cairo.txt', 'os-collaboration-exercise-data\\\\04-24_cairo.txt', 'os-collaboration-exercise-data\\\\05-01_cairo.txt', 'os-collaboration-exercise-data\\\\05-02_cairo.txt', 'os-collaboration-exercise-data\\\\05-12_cairo.txt', 'os-collaboration-exercise-data\\\\05-17_cairo.txt', 'os-collaboration-exercise-data\\\\05-25_cairo.txt', 'os-collaboration-exercise-data\\\\05-27_cairo.txt', 'os-collaboration-exercise-data\\\\05-29_cairo.txt', 'os-collaboration-exercise-data\\\\05-30_cairo.txt', 'os-collaboration-exercise-data\\\\06-28_cairo.txt', 'os-collaboration-exercise-data\\\\07-04_cairo.txt', 'os-collaboration-exercise-data\\\\07-08_cairo.txt', 'os-collaboration-exercise-data\\\\07-10_cairo.txt', 'os-collaboration-exercise-data\\\\07-13_cairo.txt', 'os-collaboration-exercise-data\\\\07-14_cairo.txt', 'os-collaboration-exercise-data\\\\07-15_cairo.txt', 'os-collaboration-exercise-data\\\\07-16_cairo.txt', 'os-collaboration-exercise-data\\\\07-17_cairo.txt', 'os-collaboration-exercise-data\\\\07-19_cairo.txt', 'os-collaboration-exercise-data\\\\07-24_cairo.txt', 'os-collaboration-exercise-data\\\\07-26_cairo.txt', 'os-collaboration-exercise-data\\\\07-27_cairo.txt', 'os-collaboration-exercise-data\\\\07-29_cairo.txt', 'os-collaboration-exercise-data\\\\07-30_cairo.txt', 'os-collaboration-exercise-data\\\\08-01_cairo.txt', 'os-collaboration-exercise-data\\\\08-03_cairo.txt', 'os-collaboration-exercise-data\\\\08-04_cairo.txt', 'os-collaboration-exercise-data\\\\08-05_cairo.txt', 'os-collaboration-exercise-data\\\\08-07_cairo.txt', 'os-collaboration-exercise-data\\\\08-08_cairo.txt', 'os-collaboration-exercise-data\\\\08-10_cairo.txt', 'os-collaboration-exercise-data\\\\08-12_cairo.txt', 'os-collaboration-exercise-data\\\\08-14_cairo.txt', 'os-collaboration-exercise-data\\\\08-18_cairo.txt', 'os-collaboration-exercise-data\\\\08-19_cairo.txt', 'os-collaboration-exercise-data\\\\08-20_cairo.txt', 'os-collaboration-exercise-data\\\\08-24_cairo.txt', 'os-collaboration-exercise-data\\\\08-25_cairo.txt', 'os-collaboration-exercise-data\\\\08-26_cairo.txt', 'os-collaboration-exercise-data\\\\09-02_cairo.txt', 'os-collaboration-exercise-data\\\\09-04_cairo.txt', 'os-collaboration-exercise-data\\\\09-05_cairo.txt', 'os-collaboration-exercise-data\\\\09-07_cairo.txt', 'os-collaboration-exercise-data\\\\09-08_cairo.txt', 'os-collaboration-exercise-data\\\\09-11_cairo.txt', 'os-collaboration-exercise-data\\\\09-12_cairo.txt', 'os-collaboration-exercise-data\\\\09-13_cairo.txt', 'os-collaboration-exercise-data\\\\09-16_cairo.txt', 'os-collaboration-exercise-data\\\\09-18_cairo.txt', 'os-collaboration-exercise-data\\\\09-20_cairo.txt', 'os-collaboration-exercise-data\\\\09-22_cairo.txt', 'os-collaboration-exercise-data\\\\09-23_cairo.txt', 'os-collaboration-exercise-data\\\\09-24_cairo.txt', 'os-collaboration-exercise-data\\\\09-25_cairo.txt', 'os-collaboration-exercise-data\\\\09-26_cairo.txt', 'os-collaboration-exercise-data\\\\09-28_cairo.txt', 'os-collaboration-exercise-data\\\\10-23_cairo.txt', 'os-collaboration-exercise-data\\\\11-03_cairo.txt', 'os-collaboration-exercise-data\\\\11-04_cairo.txt', 'os-collaboration-exercise-data\\\\11-05_cairo.txt', 'os-collaboration-exercise-data\\\\11-10_cairo.txt', 'os-collaboration-exercise-data\\\\11-14_cairo.txt', 'os-collaboration-exercise-data\\\\11-17_cairo.txt', 'os-collaboration-exercise-data\\\\11-19_cairo.txt', 'os-collaboration-exercise-data\\\\11-21_cairo.txt', 'os-collaboration-exercise-data\\\\11-29_cairo.txt', 'os-collaboration-exercise-data\\\\12-01_cairo.txt', 'os-collaboration-exercise-data\\\\12-03_cairo.txt', 'os-collaboration-exercise-data\\\\12-04_cairo.txt', 'os-collaboration-exercise-data\\\\12-05_cairo.txt', 'os-collaboration-exercise-data\\\\12-07_cairo.txt', 'os-collaboration-exercise-data\\\\12-09_cairo.txt', 'os-collaboration-exercise-data\\\\12-10_cairo.txt', 'os-collaboration-exercise-data\\\\12-13_cairo.txt', 'os-collaboration-exercise-data\\\\12-17_cairo.txt', 'os-collaboration-exercise-data\\\\12-18_cairo.txt', 'os-collaboration-exercise-data\\\\12-19_cairo.txt', 'os-collaboration-exercise-data\\\\12-21_cairo.txt', 'os-collaboration-exercise-data\\\\12-22_cairo.txt', 'os-collaboration-exercise-data\\\\12-23_cairo.txt', 'os-collaboration-exercise-data\\\\12-26_cairo.txt', 'os-collaboration-exercise-data\\\\12-27_cairo.txt', 'os-collaboration-exercise-data\\\\12-29_cairo.txt', 'os-collaboration-exercise-data\\\\apr-02_cairo.jpg', 'os-collaboration-exercise-data\\\\apr-06_cairo.png', 'os-collaboration-exercise-data\\\\apr-07_cairo.png', 'os-collaboration-exercise-data\\\\apr-10_cairo.png', 'os-collaboration-exercise-data\\\\apr-12_cairo.pdf', 'os-collaboration-exercise-data\\\\apr-12_cairo.png', 'os-collaboration-exercise-data\\\\apr-13_cairo.png', 'os-collaboration-exercise-data\\\\apr-14_cairo.jpg', 'os-collaboration-exercise-data\\\\apr-14_cairo.png', 'os-collaboration-exercise-data\\\\apr-15_cairo.jpg', 'os-collaboration-exercise-data\\\\apr-17_cairo.jpg', 'os-collaboration-exercise-data\\\\apr-17_cairo.pdf', 'os-collaboration-exercise-data\\\\apr-17_cairo.png', 'os-collaboration-exercise-data\\\\apr-20_cairo.jpg', 'os-collaboration-exercise-data\\\\apr-21_cairo.pdf', 'os-collaboration-exercise-data\\\\apr-22_cairo.pdf', 'os-collaboration-exercise-data\\\\apr-23_cairo.jpg', 'os-collaboration-exercise-data\\\\apr-24_cairo.jpg', 'os-collaboration-exercise-data\\\\aug-01_cairo.jpg', 'os-collaboration-exercise-data\\\\aug-01_cairo.png', 'os-collaboration-exercise-data\\\\aug-03_cairo.png', 'os-collaboration-exercise-data\\\\aug-04_cairo.jpg', 'os-collaboration-exercise-data\\\\aug-04_cairo.pdf', 'os-collaboration-exercise-data\\\\aug-05_cairo.pdf', 'os-collaboration-exercise-data\\\\aug-07_cairo.png', 'os-collaboration-exercise-data\\\\aug-08_cairo.jpg', 'os-collaboration-exercise-data\\\\aug-10_cairo.png', 'os-collaboration-exercise-data\\\\aug-12_cairo.jpg', 'os-collaboration-exercise-data\\\\aug-14_cairo.jpg', 'os-collaboration-exercise-data\\\\aug-14_cairo.png', 'os-collaboration-exercise-data\\\\aug-18_cairo.jpg', 'os-collaboration-exercise-data\\\\aug-19_cairo.jpg', 'os-collaboration-exercise-data\\\\aug-20_cairo.png', 'os-collaboration-exercise-data\\\\aug-24_cairo.pdf', 'os-collaboration-exercise-data\\\\aug-25_cairo.png', 'os-collaboration-exercise-data\\\\aug-26_cairo.png', 'os-collaboration-exercise-data\\\\dec-01_cairo.jpg', 'os-collaboration-exercise-data\\\\dec-03_cairo.jpg', 'os-collaboration-exercise-data\\\\dec-03_cairo.png', 'os-collaboration-exercise-data\\\\dec-04_cairo.jpg', 'os-collaboration-exercise-data\\\\dec-04_cairo.pdf', 'os-collaboration-exercise-data\\\\dec-04_cairo.png', 'os-collaboration-exercise-data\\\\dec-05_cairo.png', 'os-collaboration-exercise-data\\\\dec-07_cairo.jpg', 'os-collaboration-exercise-data\\\\dec-09_cairo.png', 'os-collaboration-exercise-data\\\\dec-10_cairo.jpg', 'os-collaboration-exercise-data\\\\dec-10_cairo.pdf', 'os-collaboration-exercise-data\\\\dec-13_cairo.pdf', 'os-collaboration-exercise-data\\\\dec-17_cairo.png', 'os-collaboration-exercise-data\\\\dec-18_cairo.jpg', 'os-collaboration-exercise-data\\\\dec-19_cairo.pdf', 'os-collaboration-exercise-data\\\\dec-21_cairo.png', 'os-collaboration-exercise-data\\\\dec-22_cairo.jpg', 'os-collaboration-exercise-data\\\\dec-23_cairo.pdf', 'os-collaboration-exercise-data\\\\dec-26_cairo.pdf', 'os-collaboration-exercise-data\\\\dec-27_cairo.png', 'os-collaboration-exercise-data\\\\dec-29_cairo.jpg', 'os-collaboration-exercise-data\\\\dec-29_cairo.png', 'os-collaboration-exercise-data\\\\feb-10_cairo.jpg', 'os-collaboration-exercise-data\\\\feb-10_cairo.pdf', 'os-collaboration-exercise-data\\\\feb-17_cairo.jpg', 'os-collaboration-exercise-data\\\\feb-20_cairo.png', 'os-collaboration-exercise-data\\\\feb-22_cairo.pdf', 'os-collaboration-exercise-data\\\\feb-22_cairo.png', 'os-collaboration-exercise-data\\\\feb-25_cairo.jpg', 'os-collaboration-exercise-data\\\\feb-25_cairo.pdf', 'os-collaboration-exercise-data\\\\feb-26_cairo.png', 'os-collaboration-exercise-data\\\\jan-02_cairo.pdf', 'os-collaboration-exercise-data\\\\jan-03_cairo.pdf', 'os-collaboration-exercise-data\\\\jan-04_cairo.jpg', 'os-collaboration-exercise-data\\\\jan-05_cairo.jpg', 'os-collaboration-exercise-data\\\\jan-07_cairo.jpg', 'os-collaboration-exercise-data\\\\jan-08_cairo.png', 'os-collaboration-exercise-data\\\\jan-09_cairo.jpg', 'os-collaboration-exercise-data\\\\jan-11_cairo.png', 'os-collaboration-exercise-data\\\\jan-12_cairo.pdf', 'os-collaboration-exercise-data\\\\jan-13_cairo.png', 'os-collaboration-exercise-data\\\\jan-15_cairo.jpg', 'os-collaboration-exercise-data\\\\jan-15_cairo.png', 'os-collaboration-exercise-data\\\\jan-16_cairo.png', 'os-collaboration-exercise-data\\\\jan-19_cairo.pdf', 'os-collaboration-exercise-data\\\\jan-20_cairo.pdf', 'os-collaboration-exercise-data\\\\jan-21_cairo.jpg', 'os-collaboration-exercise-data\\\\jan-23_cairo.png', 'os-collaboration-exercise-data\\\\jan-27_cairo.jpg', 'os-collaboration-exercise-data\\\\jan-30_cairo.pdf', 'os-collaboration-exercise-data\\\\jul-04_cairo.jpg', 'os-collaboration-exercise-data\\\\jul-08_cairo.png', 'os-collaboration-exercise-data\\\\jul-10_cairo.png', 'os-collaboration-exercise-data\\\\jul-13_cairo.png', 'os-collaboration-exercise-data\\\\jul-14_cairo.jpg', 'os-collaboration-exercise-data\\\\jul-15_cairo.pdf', 'os-collaboration-exercise-data\\\\jul-16_cairo.png', 'os-collaboration-exercise-data\\\\jul-17_cairo.pdf', 'os-collaboration-exercise-data\\\\jul-19_cairo.jpg', 'os-collaboration-exercise-data\\\\jul-24_cairo.pdf', 'os-collaboration-exercise-data\\\\jul-26_cairo.png', 'os-collaboration-exercise-data\\\\jul-27_cairo.png', 'os-collaboration-exercise-data\\\\jul-29_cairo.jpg', 'os-collaboration-exercise-data\\\\jul-30_cairo.png', 'os-collaboration-exercise-data\\\\jun-28_cairo.pdf', 'os-collaboration-exercise-data\\\\mar-05_cairo.pdf', 'os-collaboration-exercise-data\\\\mar-05_cairo.png', 'os-collaboration-exercise-data\\\\mar-06_cairo.pdf', 'os-collaboration-exercise-data\\\\mar-12_cairo.jpg', 'os-collaboration-exercise-data\\\\mar-14_cairo.pdf', 'os-collaboration-exercise-data\\\\mar-19_cairo.jpg', 'os-collaboration-exercise-data\\\\mar-24_cairo.pdf', 'os-collaboration-exercise-data\\\\may-01_cairo.png', 'os-collaboration-exercise-data\\\\may-02_cairo.png', 'os-collaboration-exercise-data\\\\may-12_cairo.png', 'os-collaboration-exercise-data\\\\may-17_cairo.png', 'os-collaboration-exercise-data\\\\may-25_cairo.png', 'os-collaboration-exercise-data\\\\may-27_cairo.pdf', 'os-collaboration-exercise-data\\\\may-29_cairo.pdf', 'os-collaboration-exercise-data\\\\may-30_cairo.jpg', 'os-collaboration-exercise-data\\\\may-30_cairo.png', 'os-collaboration-exercise-data\\\\nov-03_cairo.png', 'os-collaboration-exercise-data\\\\nov-04_cairo.pdf', 'os-collaboration-exercise-data\\\\nov-05_cairo.jpg', 'os-collaboration-exercise-data\\\\nov-05_cairo.png', 'os-collaboration-exercise-data\\\\nov-10_cairo.pdf', 'os-collaboration-exercise-data\\\\nov-14_cairo.pdf', 'os-collaboration-exercise-data\\\\nov-17_cairo.pdf', 'os-collaboration-exercise-data\\\\nov-19_cairo.jpg', 'os-collaboration-exercise-data\\\\nov-21_cairo.pdf', 'os-collaboration-exercise-data\\\\nov-29_cairo.pdf', 'os-collaboration-exercise-data\\\\oct-23_cairo.jpg', 'os-collaboration-exercise-data\\\\sep-02_cairo.png', 'os-collaboration-exercise-data\\\\sep-04_cairo.pdf', 'os-collaboration-exercise-data\\\\sep-05_cairo.pdf', 'os-collaboration-exercise-data\\\\sep-07_cairo.jpg', 'os-collaboration-exercise-data\\\\sep-08_cairo.pdf', 'os-collaboration-exercise-data\\\\sep-11_cairo.png', 'os-collaboration-exercise-data\\\\sep-12_cairo.png', 'os-collaboration-exercise-data\\\\sep-13_cairo.jpg', 'os-collaboration-exercise-data\\\\sep-13_cairo.png', 'os-collaboration-exercise-data\\\\sep-16_cairo.png', 'os-collaboration-exercise-data\\\\sep-18_cairo.pdf', 'os-collaboration-exercise-data\\\\sep-20_cairo.jpg', 'os-collaboration-exercise-data\\\\sep-22_cairo.pdf', 'os-collaboration-exercise-data\\\\sep-23_cairo.pdf', 'os-collaboration-exercise-data\\\\sep-24_cairo.pdf', 'os-collaboration-exercise-data\\\\sep-25_cairo.jpg', 'os-collaboration-exercise-data\\\\sep-25_cairo.pdf', 'os-collaboration-exercise-data\\\\sep-26_cairo.pdf', 'os-collaboration-exercise-data\\\\sep-28_cairo.jpg', 'os-collaboration-exercise-data\\\\sep-28_cairo.pdf', 'os-collaboration-exercise-data\\\\sep-28_cairo.png']\n",
      "Cairo files copied!\n",
      "All files moved!\n"
     ]
    }
   ],
   "source": [
    "import os\n",
    "import glob\n",
    "import shutil\n",
    "import numpy as np\n",
    "\n",
    "#Deleting 'Cities' folder and moving all files back to exercse-data\n",
    "all = glob.glob('Cities/**', recursive=True)\n",
    "files = [i for i in all if os.path.isfile(i)]\n",
    "for file in files:\n",
    "    shutil.move(file, 'os-collaboration-exercise-data')\n",
    "shutil.rmtree('Cities')\n",
    "\n",
    "#Task 1\n",
    "months = {\n",
    "'jan': '01', 'feb': '02', 'mar': '03',\n",
    "'apr': '04', 'may': '05', 'jun': '06',\n",
    "'jul': '07', 'aug': '08', 'sep': '09',\n",
    "'oct': '10', 'nov': '11', 'dec': '12'\n",
    "}\n",
    "filename = 'oct-08_singapore.txt'\n",
    "month = filename.split('-')[0]\n",
    "print(months[month]+'-'+filename.split('-')[1])\n",
    "\n",
    "#Task 2\n",
    "def rename_my_file(old_file_name):\n",
    "    months = {\n",
    "    'jan': '01', 'feb': '02', 'mar': '03',\n",
    "    'apr': '04', 'may': '05', 'jun': '06',\n",
    "    'jul': '07', 'aug': '08', 'sep': '09',\n",
    "    'oct': '10', 'nov': '11', 'dec': '12'\n",
    "    }\n",
    "    month = old_file_name.split('-')[0]\n",
    "    if month in ['jan', 'feb', 'mar', 'apr', 'may', 'jun', 'jul', 'aug', 'sep', 'oct', 'nov', 'dec']:\n",
    "        return(months[month]+'-'+old_file_name.split('-')[1])\n",
    "    else:\n",
    "        return(month+'-'+old_file_name.split('-')[1])      \n",
    "\n",
    "#Task 3\n",
    "files = ['oct-08_singapore.txt', 'jul-10_cairo.txt', 'may-15_dhaka.txt',\n",
    " 'may-13_cairo.txt', 'oct-21_cairo.txt', 'jan-10_singapore.txt',\n",
    " 'jun-20_tokyo.txt', 'aug-06_jakarta.txt', 'dec-21_karachi.txt',\n",
    " 'jan-01_tokyo.txt']\n",
    "for i in files:\n",
    "    print(i,'---->',rename_my_file(i))\n",
    "\n",
    "#Task 4\n",
    "textfiles = glob.glob('os-collaboration-exercise-data/*.txt', recursive=True)\n",
    "for k in textfiles:\n",
    "    name = os.path.split(k)\n",
    "    rename = rename_my_file(name[1])\n",
    "    os.rename(k,name[0]+'\\\\'+rename)\n",
    "print('All .txt files renamed!')\n",
    "\n",
    "#Task 5\n",
    "cities = ['Cairo', 'Dhaka', 'Jakarta', 'Karachi', 'Manila',\n",
    "'Melbourne', 'Osaka', 'Shanghai', 'Singapore', 'Tokyo']\n",
    "os.mkdir('Cities')\n",
    "for city in cities:\n",
    "    path = os.path.join('Cities', city)\n",
    "    print(f'Creating {path}')\n",
    "    os.mkdir(path)\n",
    "\n",
    "#Task 6\n",
    "files = glob.glob('os-collaboration-exercise-data/*Cairo*')\n",
    "print(files)\n",
    "for file in files:\n",
    "    shutil.copy(file, 'Cities/Cairo')\n",
    "print('Cairo files copied!')\n",
    "\n",
    "#Task 7\n",
    "for file in files:\n",
    "    os.remove(file)\n",
    "for city in cities:\n",
    "    files = glob.glob(f'os-collaboration-exercise-data/*{city}*')\n",
    "    for file in files:\n",
    "        shutil.move(file,f'Cities/{city}')\n",
    "print('All files moved!')"
   ]
  }
 ],
 "metadata": {
  "kernelspec": {
   "display_name": "base",
   "language": "python",
   "name": "python3"
  },
  "language_info": {
   "codemirror_mode": {
    "name": "ipython",
    "version": 3
   },
   "file_extension": ".py",
   "mimetype": "text/x-python",
   "name": "python",
   "nbconvert_exporter": "python",
   "pygments_lexer": "ipython3",
   "version": "3.13.5"
  },
  "toc": {
   "base_numbering": 1,
   "nav_menu": {},
   "number_sections": true,
   "sideBar": true,
   "skip_h1_title": false,
   "title_cell": "Table of Contents",
   "title_sidebar": "Contents",
   "toc_cell": false,
   "toc_position": {},
   "toc_section_display": true,
   "toc_window_display": false
  }
 },
 "nbformat": 4,
 "nbformat_minor": 5
}

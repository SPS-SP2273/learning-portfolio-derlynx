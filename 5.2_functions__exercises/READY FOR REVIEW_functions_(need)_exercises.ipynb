{
 "cells": [
  {
   "attachments": {},
   "cell_type": "markdown",
   "id": "123456",
   "metadata": {},
   "source": [
    "<div style=\"text-align:left;font-size:2em\"><span style=\"font-weight:bolder;font-size:1.25em\">SP2273 | Learning Portfolio</span><br><br><span style=\"font-weight:bold;color:darkred\">Functions (Need) Exercises</span></div>"
   ]
  },
  {
   "cell_type": "markdown",
   "id": "cdb322d3",
   "metadata": {},
   "source": [
    "# Exercise 1 (Do you know why?)"
   ]
  },
  {
   "cell_type": "markdown",
   "id": "ab0987a3",
   "metadata": {},
   "source": [
    "In this case, if the name is not 'Batman', the desired output of lines 2 & 3 would be to do nothing, which is the default output of an if statement without an else statement. So if the name is not 'Batman', lines 2 & 3 do nothing while line 4 executes and returns 'Hello {name}!' as it not in the same block as 2 & 3."
   ]
  },
  {
   "cell_type": "code",
   "execution_count": 68,
   "id": "99f0ecfb",
   "metadata": {},
   "outputs": [],
   "source": [
    "def greeting(name):\n",
    "    if name == 'Batman':\n",
    "        return 'Hello Batman! So, nice to meet you!'\n",
    "    return f'Hello {name}!'"
   ]
  },
  {
   "cell_type": "markdown",
   "id": "ab99739f",
   "metadata": {},
   "source": [
    "# Exercise 2 (Chubby or not)"
   ]
  },
  {
   "cell_type": "code",
   "execution_count": 13,
   "id": "ad2687ee",
   "metadata": {},
   "outputs": [],
   "source": [
    "def calculate_bmi(weight, height):\n",
    "    BMI = weight / (height**2)\n",
    "    if BMI < 18.5:\n",
    "        print('Underweight')\n",
    "    elif 18.5 <= BMI < 25:\n",
    "        print('Normal weight')\n",
    "    elif 25 <= BMI < 30:\n",
    "        print('Overweight')\n",
    "    else:\n",
    "        print('Obese')"
   ]
  },
  {
   "cell_type": "markdown",
   "id": "44dae14a",
   "metadata": {},
   "source": [
    "# Exercise 3 (Factorials)"
   ]
  },
  {
   "cell_type": "code",
   "execution_count": null,
   "id": "c6e9242f",
   "metadata": {},
   "outputs": [
    {
     "data": {
      "text/plain": [
       "720"
      ]
     },
     "execution_count": 4,
     "metadata": {},
     "output_type": "execute_result"
    }
   ],
   "source": [
    "def factorial(n):\n",
    "    if n == 0:\n",
    "        return 1\n",
    "    elif n < 0 or n%1 != 0:\n",
    "        print('Please enter a non-negative integer.')\n",
    "    else:\n",
    "        fac = 1\n",
    "        for i in range(1,n+1): #for loop\n",
    "            fac *= i\n",
    "        return fac"
   ]
  },
  {
   "cell_type": "code",
   "execution_count": 12,
   "id": "e9bc8b36",
   "metadata": {},
   "outputs": [],
   "source": [
    "def factorial(n):\n",
    "    if n == 0:\n",
    "        return 1\n",
    "    elif n < 0 or n%1 != 0:\n",
    "        print('Please enter a non-negative integer.')\n",
    "    else:\n",
    "        factorial(0) == 1\n",
    "        return factorial(n-1)*n #recursion"
   ]
  }
 ],
 "metadata": {
  "kernelspec": {
   "display_name": "base",
   "language": "python",
   "name": "python3"
  },
  "language_info": {
   "codemirror_mode": {
    "name": "ipython",
    "version": 3
   },
   "file_extension": ".py",
   "mimetype": "text/x-python",
   "name": "python",
   "nbconvert_exporter": "python",
   "pygments_lexer": "ipython3",
   "version": "3.13.5"
  },
  "toc": {
   "base_numbering": 1,
   "nav_menu": {},
   "number_sections": true,
   "sideBar": true,
   "skip_h1_title": false,
   "title_cell": "Table of Contents",
   "title_sidebar": "Contents",
   "toc_cell": false,
   "toc_position": {},
   "toc_section_display": true,
   "toc_window_display": false
  }
 },
 "nbformat": 4,
 "nbformat_minor": 5
}

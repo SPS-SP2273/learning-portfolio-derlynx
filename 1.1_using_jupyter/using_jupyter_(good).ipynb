{
 "cells": [
  {
   "attachments": {},
   "cell_type": "markdown",
   "id": "123456",
   "metadata": {},
   "source": [
    "<div style=\"text-align:left;font-size:2em\"><span style=\"font-weight:bolder;font-size:1.25em\">SP2273 | Learning Portfolio</span><br><br><span style=\"font-weight:bold;color:darkred\">Using Jupyter (Good)</span></div>"
   ]
  },
  {
   "attachments": {},
   "cell_type": "markdown",
   "id": "123456",
   "metadata": {},
   "source": [
    "# What to expect in this chapter"
   ]
  },
  {
   "cell_type": "markdown",
   "id": "4a4f2f28",
   "metadata": {},
   "source": [
    "You should now know the basics of using a Jupyter Notebook. However, the Jupyter environment offers many more goodies (e.g., extensions, shell magic). In this chapter, I will show you a few of these and help you optimise your environment to make it easier and faster to use Jupyter."
   ]
  },
  {
   "attachments": {},
   "cell_type": "markdown",
   "id": "123456",
   "metadata": {},
   "source": [
    "# 1 Some tips and tricks"
   ]
  },
  {
   "attachments": {},
   "cell_type": "markdown",
   "id": "123456",
   "metadata": {},
   "source": [
    "## 1.1 Keyboard Shortcuts"
   ]
  },
  {
   "cell_type": "markdown",
   "id": "9cab6039",
   "metadata": {},
   "source": [
    "Using keyboard shortcuts will make your workflow smooth and efficient. Here are some essential shortcuts. It will help you to practice using all these keyboard shortcuts.\n",
    "| Action                        |             Shortcut            |\n",
    "|-------------------------------|:-------------------------------:|\n",
    "| Run cell                      |   CTRL + ENTER or CMD + ENTER   |\n",
    "| Run cell and move to the next |          SHIFT + ENTER          |\n",
    "| Convert cell to code cell     |             ESC + Y             |\n",
    "| Convert cell to Markdown cell |             ESC + M             |\n",
    "| Create new cell               | ESC + A (above) ESC + B (below) |\n",
    "| Copy cell(s)                  |             ESC + C             |\n",
    "| Paste cell(s)                 |             ESC + V             |\n",
    "| Merge cells                   |            SHIFT + M            |\n",
    "| Delete cell                   |           ESC + D + D           |\n",
    "| Show shortcuts                |             ESC + H             |\n",
    "\n",
    "You will notice that many shortcut commands use the escape button (ESC). This is because typing ESC puts Jupyter into command mode, ready for a command, not code or text."
   ]
  },
  {
   "attachments": {},
   "cell_type": "markdown",
   "id": "123456",
   "metadata": {},
   "source": [
    "### Things to note"
   ]
  },
  {
   "cell_type": "markdown",
   "id": "123456",
   "metadata": {},
   "source": [
    "- You can select one or more cells using SHIFT and the up and down arrow keys.\n",
    "- Be careful with the delete shortcut; it can be ruthless.\n",
    "- You can view (and set) shortcuts for Jupyter Notebooks by typing ESC + H."
   ]
  },
  {
   "attachments": {},
   "cell_type": "markdown",
   "id": "123456",
   "metadata": {},
   "source": [
    "## 1.2 Shell commands"
   ]
  },
  {
   "cell_type": "markdown",
   "id": "4fa35f1a",
   "metadata": {},
   "source": [
    "You can run ‘terminal’ commands (called shell commands) from Jupyter without switching to the terminal. The only thing you need to do is to add a ! in front of the command.\n",
    "\n",
    "To test out this feature, run the following:"
   ]
  },
  {
   "cell_type": "markdown",
   "id": "6443569b",
   "metadata": {},
   "source": [
    "This will print the current working directory.\n",
    "\n",
    "!cd\n",
    "\n",
    "This will show you a list of all the files in your folder.\n",
    "\n",
    "!dir"
   ]
  },
  {
   "attachments": {},
   "cell_type": "markdown",
   "id": "123456",
   "metadata": {},
   "source": [
    "# 2 Install Notebook 7"
   ]
  },
  {
   "cell_type": "markdown",
   "id": "26f3ad02",
   "metadata": {},
   "source": [
    "To ensure that all of you benefit from the latest updates and ensure uniformity, I would like you to use Jupyter Notebook version 7. For this, please follow these steps:\n",
    "\n",
    "1. Remove the extensions to avoid possible version conflicts."
   ]
  },
  {
   "cell_type": "code",
   "execution_count": 4,
   "id": "13430063",
   "metadata": {},
   "outputs": [
    {
     "name": "stdout",
     "output_type": "stream",
     "text": [
      "3 channel Terms of Service accepted\n",
      "\n",
      "Note: you may need to restart the kernel to use updated packages.\n"
     ]
    },
    {
     "name": "stderr",
     "output_type": "stream",
     "text": [
      "\n",
      "PackagesNotFoundError: The following packages are missing from the target environment:\n",
      "  - jupyter_contrib_nbextensions\n",
      "\n",
      "\n"
     ]
    }
   ],
   "source": [
    "conda remove jupyter_contrib_nbextensions"
   ]
  },
  {
   "cell_type": "markdown",
   "id": "61e8a2c5",
   "metadata": {},
   "source": [
    "2. Install Notebook version 7"
   ]
  },
  {
   "cell_type": "code",
   "execution_count": 5,
   "id": "9313f0ae",
   "metadata": {},
   "outputs": [
    {
     "name": "stdout",
     "output_type": "stream",
     "text": [
      "3 channel Terms of Service accepted\n",
      "Retrieving notices: done\n",
      "\n",
      "Note: you may need to restart the kernel to use updated packages.\n"
     ]
    },
    {
     "name": "stderr",
     "output_type": "stream",
     "text": [
      "\n",
      "EnvironmentNotWritableError: The current user does not have write permissions to the target environment.\n",
      "  environment location: c:\\ProgramData\\miniconda3\n",
      "\n",
      "\n"
     ]
    }
   ],
   "source": [
    "conda install -c conda-forge notebook=7.0.6 -y"
   ]
  },
  {
   "attachments": {},
   "cell_type": "markdown",
   "id": "123456",
   "metadata": {},
   "source": [
    "# Jupyter Extensions"
   ]
  },
  {
   "attachments": {},
   "cell_type": "markdown",
   "id": "123456",
   "metadata": {},
   "source": [
    "## Installing the extensions"
   ]
  },
  {
   "attachments": {},
   "cell_type": "markdown",
   "id": "123456",
   "metadata": {},
   "source": [
    "## Enabling the extensions"
   ]
  },
  {
   "attachments": {},
   "cell_type": "markdown",
   "id": "123456",
   "metadata": {},
   "source": [
    "# 3 Shell Magic"
   ]
  },
  {
   "cell_type": "markdown",
   "id": "376efb7e",
   "metadata": {},
   "source": [
    "One of the most useful goodies that come with Jupyter are the magic commands. For example, try the following:"
   ]
  },
  {
   "cell_type": "code",
   "execution_count": 2,
   "id": "d7d8fa98",
   "metadata": {},
   "outputs": [
    {
     "name": "stdout",
     "output_type": "stream",
     "text": [
      "39.1 ns ± 3.21 ns per loop (mean ± std. dev. of 7 runs, 10,000,000 loops each)\n"
     ]
    }
   ],
   "source": [
    "%timeit x=10"
   ]
  },
  {
   "cell_type": "markdown",
   "id": "e37a9d27",
   "metadata": {},
   "source": [
    "This will run for a while and then tell you statistics on how long the command takes to execute. The above is called line magic because it works (i.e., does the timing in this case) for only a single line. If you want to apply it to a whole cell, we will use the cell magic command %%timeit."
   ]
  },
  {
   "cell_type": "code",
   "execution_count": 3,
   "id": "f50536ab",
   "metadata": {},
   "outputs": [
    {
     "name": "stdout",
     "output_type": "stream",
     "text": [
      "62.4 ns ± 0.809 ns per loop (mean ± std. dev. of 7 runs, 10,000,000 loops each)\n"
     ]
    }
   ],
   "source": [
    "%%timeit \n",
    "x=10\n",
    "y=10\n",
    "z=10"
   ]
  },
  {
   "cell_type": "markdown",
   "id": "029327c5",
   "metadata": {},
   "source": [
    "You will only need the timeit in 73. However, there is more magic to be found. Use %lsmagic to discover what else is available."
   ]
  },
  {
   "attachments": {},
   "cell_type": "markdown",
   "id": "123456",
   "metadata": {},
   "source": [
    "# 4 The Kernel"
   ]
  },
  {
   "cell_type": "markdown",
   "id": "b77a850a",
   "metadata": {},
   "source": [
    "You will have realised that there is more going on with Jupyter Notebooks than just Python. All the behind-the-scenes work of running a Jupyter Notebook is done by a sub-routine called the Kernel.\n",
    "\n",
    "You can interrupt, restart, or shut down the kernel using the Kernel button in the toolbar. As you start coding with Python, you will need to do these because Jupyter sometimes misbehaves, and you can make blunders that require a reset."
   ]
  }
 ],
 "metadata": {
  "kernelspec": {
   "display_name": "base",
   "language": "python",
   "name": "python3"
  },
  "language_info": {
   "codemirror_mode": {
    "name": "ipython",
    "version": 3
   },
   "file_extension": ".py",
   "mimetype": "text/x-python",
   "name": "python",
   "nbconvert_exporter": "python",
   "pygments_lexer": "ipython3",
   "version": "3.13.5"
  },
  "toc": {
   "base_numbering": 1,
   "nav_menu": {},
   "number_sections": true,
   "sideBar": true,
   "skip_h1_title": false,
   "title_cell": "Table of Contents",
   "title_sidebar": "Contents",
   "toc_cell": false,
   "toc_position": {},
   "toc_section_display": true,
   "toc_window_display": false
  }
 },
 "nbformat": 4,
 "nbformat_minor": 5
}

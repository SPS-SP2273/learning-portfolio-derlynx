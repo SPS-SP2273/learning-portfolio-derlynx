{
 "cells": [
  {
   "attachments": {},
   "cell_type": "markdown",
   "id": "123456",
   "metadata": {},
   "source": [
    "<div style=\"text-align:left;font-size:2em\"><span style=\"font-weight:bolder;font-size:1.25em\">SP2273 | Learning Portfolio</span><br><br><span style=\"font-weight:bold;color:darkred\">Storing Data (Good) Exercises</span></div>"
   ]
  },
  {
   "cell_type": "markdown",
   "id": "f4695ce2",
   "metadata": {},
   "source": [
    "# Exercise 1 (Total recall)"
   ]
  },
  {
   "cell_type": "markdown",
   "id": "b30d375d",
   "metadata": {},
   "source": [
    "| Term       | Brief description |\n",
    "|------------|-------------------|\n",
    "| Subsetting |Selecting a subset of a list/array|\n",
    "| Indexing   |Selecting 1 element of a list/array|\n",
    "| Slicing    |Selecting a range of elements of a list/array|\n",
    "| Masking    |Selecting elements based on True/False|"
   ]
  },
  {
   "cell_type": "markdown",
   "id": "81ca3dd0",
   "metadata": {
    "vscode": {
     "languageId": "plaintext"
    }
   },
   "source": [
    "# Exercise 2 (Show me the ‘odd’ letters)"
   ]
  },
  {
   "cell_type": "code",
   "execution_count": null,
   "id": "d6be00d8",
   "metadata": {},
   "outputs": [
    {
     "name": "stdout",
     "output_type": "stream",
     "text": [
      "[['1' 'A']\n",
      " ['3' 'C']\n",
      " ['2' 'B']\n",
      " ['4' 'D']\n",
      " ['5' 'E']\n",
      " ['7' 'G']\n",
      " ['6' 'F']\n",
      " ['8' 'H']\n",
      " ['10' 'J']\n",
      " ['9' 'I']]\n",
      "['1' '3' '2' '4' '5' '7' '6' '8' '10' '9']\n"
     ]
    },
    {
     "ename": "TypeError",
     "evalue": "Cannot construct a dtype from an array",
     "output_type": "error",
     "traceback": [
      "\u001b[31m---------------------------------------------------------------------------\u001b[39m",
      "\u001b[31mTypeError\u001b[39m                                 Traceback (most recent call last)",
      "\u001b[36mCell\u001b[39m\u001b[36m \u001b[39m\u001b[32mIn[43]\u001b[39m\u001b[32m, line 8\u001b[39m\n\u001b[32m      6\u001b[39m first = np_array_2d[::,\u001b[32m0\u001b[39m]\n\u001b[32m      7\u001b[39m \u001b[38;5;28mprint\u001b[39m(first)\n\u001b[32m----> \u001b[39m\u001b[32m8\u001b[39m first_int = \u001b[43mfirst\u001b[49m\u001b[43m.\u001b[49m\u001b[43mastype\u001b[49m\u001b[43m(\u001b[49m\u001b[38;5;28;43mint\u001b[39;49m\u001b[43m)\u001b[49m\n\u001b[32m      9\u001b[39m \u001b[38;5;28mprint\u001b[39m(first_int)\n",
      "\u001b[31mTypeError\u001b[39m: Cannot construct a dtype from an array"
     ]
    }
   ],
   "source": [
    "import numpy as np\n",
    "np_array_2d = np.array([[1, \"A\"], [3, \"C\"], [2, \"B\"], [4, \"D\"],\n",
    "                        [5, \"E\"], [7, \"G\"], [6, \"F\"], [8, \"H\"],\n",
    "                        [10, \"J\"], [9, \"I\"]])\n",
    "print(np_array_2d)\n",
    "first = np_array_2d[::,0]\n",
    "print(first)\n",
    "first_int = first.astype(int)\n",
    "print(first_int)\n"
   ]
  },
  {
   "cell_type": "markdown",
   "id": "25cbdbd6",
   "metadata": {},
   "source": [
    "# Exercise 3"
   ]
  },
  {
   "cell_type": "code",
   "execution_count": 30,
   "id": "8eb2c832",
   "metadata": {},
   "outputs": [
    {
     "name": "stdout",
     "output_type": "stream",
     "text": [
      "[[ 1  0  1 -1 -1]\n",
      " [ 1 -1  1 -1 -1]\n",
      " [ 1 -1 -1  1 -1]\n",
      " [-1  1  1 -1 -1]\n",
      " [ 1 -1  1 -1  1]]\n"
     ]
    }
   ],
   "source": [
    "arr = np.array([[66, 50, 57, -1, -1],\n",
    " [92, -1, 88, -1, -1],\n",
    " [75, -1, -1, 76, -1],\n",
    " [-1, 51, 87, -1, -1],\n",
    " [71, -1, 67, -1, 69]])\n",
    "arr[arr < 50] = -1\n",
    "arr[arr > 50] = 1\n",
    "arr[arr == 50] = 0\n",
    "print(arr)\n",
    "\n",
    "\n"
   ]
  }
 ],
 "metadata": {
  "kernelspec": {
   "display_name": "base",
   "language": "python",
   "name": "python3"
  },
  "language_info": {
   "codemirror_mode": {
    "name": "ipython",
    "version": 3
   },
   "file_extension": ".py",
   "mimetype": "text/x-python",
   "name": "python",
   "nbconvert_exporter": "python",
   "pygments_lexer": "ipython3",
   "version": "3.13.5"
  },
  "toc": {
   "base_numbering": 1,
   "nav_menu": {},
   "number_sections": true,
   "sideBar": true,
   "skip_h1_title": false,
   "title_cell": "Table of Contents",
   "title_sidebar": "Contents",
   "toc_cell": false,
   "toc_position": {},
   "toc_section_display": true,
   "toc_window_display": false
  }
 },
 "nbformat": 4,
 "nbformat_minor": 5
}

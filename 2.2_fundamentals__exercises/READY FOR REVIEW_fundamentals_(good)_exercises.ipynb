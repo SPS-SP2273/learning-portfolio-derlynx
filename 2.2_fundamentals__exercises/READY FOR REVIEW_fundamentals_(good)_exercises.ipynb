{
 "cells": [
  {
   "attachments": {},
   "cell_type": "markdown",
   "id": "123456",
   "metadata": {},
   "source": [
    "<div style=\"text-align:left;font-size:2em\"><span style=\"font-weight:bolder;font-size:1.25em\">SP2273 | Learning Portfolio</span><br><br><span style=\"font-weight:bold;color:darkred\">Fundamentals (Good) Exercises</span></div>"
   ]
  },
  {
   "cell_type": "markdown",
   "id": "38e702d2",
   "metadata": {
    "vscode": {
     "languageId": "plaintext"
    }
   },
   "source": [
    "# Exercise 1"
   ]
  },
  {
   "cell_type": "code",
   "execution_count": null,
   "id": "4fb74af2",
   "metadata": {},
   "outputs": [
    {
     "name": "stdout",
     "output_type": "stream",
     "text": [
      "How you doin derk!\n"
     ]
    }
   ],
   "source": [
    "user_input = input('Please provide your name.')\n",
    "print('How you doin',user_input+'!')"
   ]
  },
  {
   "cell_type": "code",
   "execution_count": 9,
   "id": "3a5dcb55",
   "metadata": {},
   "outputs": [
    {
     "name": "stdout",
     "output_type": "stream",
     "text": [
      "My name is derk and I am 20 years old.\n"
     ]
    }
   ],
   "source": [
    "user_input = input('Please provide your name.')\n",
    "user_age = input('Please provide your age.')\n",
    "print('My name is', user_input,'and I am',user_age,'years old.')"
   ]
  },
  {
   "cell_type": "code",
   "execution_count": 14,
   "id": "7591969f",
   "metadata": {},
   "outputs": [
    {
     "name": "stdout",
     "output_type": "stream",
     "text": [
      "The value of pi to 2 decimal places is: 3.14\n",
      "The value of pi to 3 decimal places is: 3.142\n",
      "The value of pi to 4 decimal places is: 3.1416\n"
     ]
    }
   ],
   "source": [
    "pi = 3.141592653589793\n",
    "print(f'The value of pi to 2 decimal places is: {pi:.2f}')\n",
    "print(f'The value of pi to 3 decimal places is: {pi:.3f}')\n",
    "print(f'The value of pi to 4 decimal places is: {pi:.4f}')"
   ]
  },
  {
   "cell_type": "code",
   "execution_count": 31,
   "id": "f1c393fe",
   "metadata": {},
   "outputs": [
    {
     "name": "stdout",
     "output_type": "stream",
     "text": [
      "Apple      $ 0.99\n",
      "Banana     $ 0.59\n",
      "Orange     $ 1.29\n"
     ]
    }
   ],
   "source": [
    "print(f'{'Apple':<10} ${0.99:>5}\\n{'Banana':<10} ${0.59:>5}\\n{'Orange':<10} ${1.29:>5}')"
   ]
  },
  {
   "cell_type": "markdown",
   "id": "89fa3024",
   "metadata": {},
   "source": [
    "# Exercise 2"
   ]
  },
  {
   "cell_type": "code",
   "execution_count": 17,
   "id": "09a6cbb7",
   "metadata": {},
   "outputs": [
    {
     "name": "stdout",
     "output_type": "stream",
     "text": [
      "The student's letter grade is: B\n"
     ]
    }
   ],
   "source": [
    "while True:\n",
    "    try:\n",
    "        score = int(input('Enter the student\\'s score:'))\n",
    "        if 70 <= score <= 100:\n",
    "            print('The student\\'s letter grade is: A')\n",
    "        elif 50 <= score <= 69:\n",
    "            print('The student\\'s letter grade is: B')\n",
    "        elif 35 <= score <= 49:\n",
    "            print('The student\\'s letter grade is: C')\n",
    "        elif 0 <= score <= 34:\n",
    "            print('The student\\'s letter grade is: Fail')\n",
    "        else:\n",
    "            print('Please enter a correct score.') \n",
    "        break\n",
    "    except ValueError:\n",
    "        print('Please enter a correct score.')"
   ]
  },
  {
   "cell_type": "markdown",
   "id": "c63e6688",
   "metadata": {},
   "source": [
    "# Exercise 3"
   ]
  },
  {
   "cell_type": "code",
   "execution_count": 23,
   "id": "311bdb88",
   "metadata": {},
   "outputs": [
    {
     "name": "stdout",
     "output_type": "stream",
     "text": [
      "120\n",
      "Invalid input\n"
     ]
    }
   ],
   "source": [
    "def factorial(n):\n",
    "    if n < 0: #less than, not more than\n",
    "        return \"Invalid input\"\n",
    "    elif n == 0: #==, not !=\n",
    "        return 1\n",
    "    else:\n",
    "        result = 1\n",
    "        for number in range(1, n+1):\n",
    "            result *= number #times, not add\n",
    "        return result\n",
    "\n",
    "\n",
    "print(factorial(5))   # Testing, expected output: 120\n",
    "print(factorial(-1))  # Testing, expected output: Invalid input"
   ]
  }
 ],
 "metadata": {
  "kernelspec": {
   "display_name": "base",
   "language": "python",
   "name": "python3"
  },
  "language_info": {
   "codemirror_mode": {
    "name": "ipython",
    "version": 3
   },
   "file_extension": ".py",
   "mimetype": "text/x-python",
   "name": "python",
   "nbconvert_exporter": "python",
   "pygments_lexer": "ipython3",
   "version": "3.13.5"
  },
  "toc": {
   "base_numbering": 1,
   "nav_menu": {},
   "number_sections": true,
   "sideBar": true,
   "skip_h1_title": false,
   "title_cell": "Table of Contents",
   "title_sidebar": "Contents",
   "toc_cell": false,
   "toc_position": {},
   "toc_section_display": true,
   "toc_window_display": false
  }
 },
 "nbformat": 4,
 "nbformat_minor": 5
}

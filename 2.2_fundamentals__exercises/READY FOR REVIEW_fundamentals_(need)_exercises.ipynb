{
 "cells": [
  {
   "attachments": {},
   "cell_type": "markdown",
   "id": "123456",
   "metadata": {},
   "source": [
    "<div style=\"text-align:left;font-size:2em\"><span style=\"font-weight:bolder;font-size:1.25em\">SP2273 | Learning Portfolio</span><br><br><span style=\"font-weight:bold;color:darkred\">Fundamentals (Need) Exercises</span></div>"
   ]
  },
  {
   "cell_type": "markdown",
   "id": "29dcefe3",
   "metadata": {},
   "source": [
    "# Exercise 1"
   ]
  },
  {
   "cell_type": "markdown",
   "id": "bd8ad5a9",
   "metadata": {},
   "source": [
    "1. Functions\n",
    "1. *Interpreter*\n",
    "1. *Case-sensitive*\n",
    "1. Comments\n",
    "1. *Assign vs equal*\n",
    "1. *if/then*\n",
    "1. Indentation\n",
    "1. Variables\n",
    "1. Brackets\n",
    "1. Packages\n",
    "1. Dot (indicates ownership)"
   ]
  },
  {
   "cell_type": "markdown",
   "id": "03d5bda6",
   "metadata": {},
   "source": [
    "# Exercise 2"
   ]
  },
  {
   "cell_type": "code",
   "execution_count": 5,
   "id": "7f873f18",
   "metadata": {},
   "outputs": [
    {
     "name": "stdout",
     "output_type": "stream",
     "text": [
      "3 4 5\n"
     ]
    }
   ],
   "source": [
    "import numpy as np\n",
    "x, y = 3, 4\n",
    "z = np.sqrt(x**2 + y**2)\n",
    "print(x, y, int(z))"
   ]
  },
  {
   "cell_type": "markdown",
   "id": "25f51ebe",
   "metadata": {},
   "source": [
    "# Exercise 3"
   ]
  },
  {
   "cell_type": "markdown",
   "id": "fc78122f",
   "metadata": {},
   "source": [
    "| #  | Term         | Description                                                        |\n",
    "|----|--------------|--------------------------------------------------------------------|\n",
    "| 1  | Function     | Generate outputs when given inputs                                 |\n",
    "| 2  | Arguments    | Input of functions                                                 |\n",
    "| 3  | Comments     | Helps you remember what each line of code does                     |\n",
    "| 4  | Indentations | Ensures that blocks of code work properly by separating True and False blocks|\n",
    "| 5  | Packages     | Imports data structures that are not originally in Python which are used to store and organise information eg. functions, array objects, math terminology from numpy|\n",
    "| 6  | .            | Show that the right is an attribute/property of the left (indicates ownership)|\n",
    "| 7  | :            | To define something eg. for conditional statements, loops, functions|\n",
    "| 8  | []           | List                                                               |\n",
    "| 9  | [[],[]]      | Nested / 2D list                                                            |\n",
    "| 10 | {}           | Dictionary                                                         |"
   ]
  },
  {
   "cell_type": "markdown",
   "id": "6d473822",
   "metadata": {},
   "source": [
    "# Exercise 4"
   ]
  },
  {
   "cell_type": "code",
   "execution_count": 1,
   "id": "5d04590f",
   "metadata": {},
   "outputs": [
    {
     "name": "stdout",
     "output_type": "stream",
     "text": [
      "2.5\n",
      "2\n",
      "1\n"
     ]
    }
   ],
   "source": [
    "print(5/2)           # Returns a float\n",
    "print(5//2)          # Returns integer part\n",
    "print(5%2)           # Returns remainder (modulus)"
   ]
  }
 ],
 "metadata": {
  "kernelspec": {
   "display_name": "base",
   "language": "python",
   "name": "python3"
  },
  "language_info": {
   "codemirror_mode": {
    "name": "ipython",
    "version": 3
   },
   "file_extension": ".py",
   "mimetype": "text/x-python",
   "name": "python",
   "nbconvert_exporter": "python",
   "pygments_lexer": "ipython3",
   "version": "3.13.5"
  },
  "toc": {
   "base_numbering": 1,
   "nav_menu": {},
   "number_sections": true,
   "sideBar": true,
   "skip_h1_title": false,
   "title_cell": "Table of Contents",
   "title_sidebar": "Contents",
   "toc_cell": false,
   "toc_position": {},
   "toc_section_display": true,
   "toc_window_display": false
  }
 },
 "nbformat": 4,
 "nbformat_minor": 5
}
